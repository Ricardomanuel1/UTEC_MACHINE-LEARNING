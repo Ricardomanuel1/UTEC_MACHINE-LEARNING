{
  "cells": [
    {
      "cell_type": "markdown",
      "metadata": {
        "id": "view-in-github",
        "colab_type": "text"
      },
      "source": [
        "<a href=\"https://colab.research.google.com/github/Ricardomanuel1/UTEC_MACHINE-LEARNING/blob/main/Modulo1_Python_Data_Science/PythonData.ipynb\" target=\"_parent\"><img src=\"https://colab.research.google.com/assets/colab-badge.svg\" alt=\"Open In Colab\"/></a>"
      ]
    },
    {
      "cell_type": "markdown",
      "metadata": {
        "id": "pGai0_A5oTB1"
      },
      "source": [
        "### **Data Manipulation in Python**\n",
        "*Material adaptado de [PhD. Jennifer Widom](https://cs.stanford.edu/people/widom/).*"
      ]
    },
    {
      "cell_type": "markdown",
      "metadata": {
        "id": "U68rIwRroTB3"
      },
      "source": [
        "### Leer datos de archivos CSV usando el paquete csv"
      ]
    },
    {
      "cell_type": "code",
      "execution_count": null,
      "metadata": {
        "id": "YJSsPQEGoTB3"
      },
      "outputs": [],
      "source": [
        "# Configuración\n",
        "import csv"
      ]
    },
    {
      "cell_type": "code",
      "execution_count": null,
      "metadata": {
        "id": "ZQ94OoEToTB4",
        "colab": {
          "resources": {
            "http://localhost:8080/nbextensions/google.colab/files.js": {
              "data": "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",
              "ok": true,
              "headers": [
                [
                  "content-type",
                  "application/javascript"
                ]
              ],
              "status": 200,
              "status_text": ""
            }
          },
          "base_uri": "https://localhost:8080/",
          "height": 107
        },
        "outputId": "42ef467e-7351-4584-d9bf-44abb2fb0063"
      },
      "outputs": [
        {
          "output_type": "display_data",
          "data": {
            "text/plain": [
              "<IPython.core.display.HTML object>"
            ],
            "text/html": [
              "\n",
              "     <input type=\"file\" id=\"files-030f5303-200d-48ea-a48e-bed108a85902\" name=\"files[]\" multiple disabled\n",
              "        style=\"border:none\" />\n",
              "     <output id=\"result-030f5303-200d-48ea-a48e-bed108a85902\">\n",
              "      Upload widget is only available when the cell has been executed in the\n",
              "      current browser session. Please rerun this cell to enable.\n",
              "      </output>\n",
              "      <script src=\"/nbextensions/google.colab/files.js\"></script> "
            ]
          },
          "metadata": {}
        },
        {
          "output_type": "stream",
          "name": "stdout",
          "text": [
            "Saving Cities.csv to Cities.csv\n",
            "Saving Countries.csv to Countries.csv\n"
          ]
        }
      ],
      "source": [
        "# Subir archivos de datos iniciales\n",
        "# Elija los archivos Cities.csv y Countries.csv - debe estar en la computadora local\n",
        "# Si ejecuta notebook en una computadora local:\n",
        "# No es necesario ejecutar esta línea (generará un error)\n",
        "# Asegúrese de que los archivos de datos estén en el mismo espacio de trabajo que el cuaderno\n",
        "from google.colab import files\n",
        "uploaded = files.upload()"
      ]
    },
    {
      "cell_type": "code",
      "execution_count": null,
      "metadata": {
        "id": "g4n0LOP-oTB5",
        "colab": {
          "base_uri": "https://localhost:8080/"
        },
        "outputId": "d1fdbe65-dc16-4bc6-9cdc-bf5447146e54"
      },
      "outputs": [
        {
          "output_type": "stream",
          "name": "stdout",
          "text": [
            "OrderedDict([('city', 'Aalborg'), ('country', 'Denmark'), ('latitude', '57.03'), ('longitude', '9.92'), ('temperature', '7.52')])\n",
            "OrderedDict([('city', 'Aberdeen'), ('country', 'United Kingdom'), ('latitude', '57.17'), ('longitude', '-2.08'), ('temperature', '8.10')])\n",
            "OrderedDict([('city', 'Abisko'), ('country', 'Sweden'), ('latitude', '63.35'), ('longitude', '18.83'), ('temperature', '0.20')])\n",
            "OrderedDict([('city', 'Adana'), ('country', 'Turkey'), ('latitude', '36.99'), ('longitude', '35.32'), ('temperature', '18.67')])\n",
            "OrderedDict([('city', 'Albacete'), ('country', 'Spain'), ('latitude', '39.00'), ('longitude', '-1.87'), ('temperature', '12.62')])\n",
            "OrderedDict([('city', 'Algeciras'), ('country', 'Spain'), ('latitude', '36.13'), ('longitude', '-5.47'), ('temperature', '17.38')])\n",
            "OrderedDict([('city', 'Amiens'), ('country', 'France'), ('latitude', '49.90'), ('longitude', '2.30'), ('temperature', '10.17')])\n",
            "OrderedDict([('city', 'Amsterdam'), ('country', 'Netherlands'), ('latitude', '52.35'), ('longitude', '4.92'), ('temperature', '8.93')])\n",
            "OrderedDict([('city', 'Ancona'), ('country', 'Italy'), ('latitude', '43.60'), ('longitude', '13.50'), ('temperature', '13.52')])\n",
            "OrderedDict([('city', 'Andorra'), ('country', 'Andorra'), ('latitude', '42.50'), ('longitude', '1.52'), ('temperature', '9.60')])\n",
            "OrderedDict([('city', 'Angers'), ('country', 'France'), ('latitude', '47.48'), ('longitude', '-0.53'), ('temperature', '10.98')])\n",
            "OrderedDict([('city', 'Ankara'), ('country', 'Turkey'), ('latitude', '39.93'), ('longitude', '32.86'), ('temperature', '9.86')])\n",
            "OrderedDict([('city', 'Antalya'), ('country', 'Turkey'), ('latitude', '36.89'), ('longitude', '30.70'), ('temperature', '11.88')])\n",
            "OrderedDict([('city', 'Arad'), ('country', 'Romania'), ('latitude', '46.17'), ('longitude', '21.32'), ('temperature', '9.32')])\n",
            "OrderedDict([('city', 'Athens'), ('country', 'Greece'), ('latitude', '37.98'), ('longitude', '23.73'), ('temperature', '17.41')])\n",
            "OrderedDict([('city', 'Augsburg'), ('country', 'Germany'), ('latitude', '48.35'), ('longitude', '10.90'), ('temperature', '4.54')])\n",
            "OrderedDict([('city', 'Bacau'), ('country', 'Romania'), ('latitude', '46.58'), ('longitude', '26.92'), ('temperature', '7.51')])\n",
            "OrderedDict([('city', 'Badajoz'), ('country', 'Spain'), ('latitude', '38.88'), ('longitude', '-6.97'), ('temperature', '15.61')])\n",
            "OrderedDict([('city', 'Baia Mare'), ('country', 'Romania'), ('latitude', '47.66'), ('longitude', '23.58'), ('temperature', '8.87')])\n",
            "OrderedDict([('city', 'Balti'), ('country', 'Moldova'), ('latitude', '47.76'), ('longitude', '27.91'), ('temperature', '8.23')])\n",
            "OrderedDict([('city', 'Barcelona'), ('country', 'Spain'), ('latitude', '41.38'), ('longitude', '2.18'), ('temperature', '15.78')])\n",
            "OrderedDict([('city', 'Bari'), ('country', 'Italy'), ('latitude', '41.11'), ('longitude', '16.87'), ('temperature', '15.15')])\n",
            "OrderedDict([('city', 'Basel'), ('country', 'Switzerland'), ('latitude', '47.58'), ('longitude', '7.59'), ('temperature', '6.68')])\n",
            "OrderedDict([('city', 'Batman'), ('country', 'Turkey'), ('latitude', '37.89'), ('longitude', '41.14'), ('temperature', '14.16')])\n",
            "OrderedDict([('city', 'Belfast'), ('country', 'United Kingdom'), ('latitude', '54.60'), ('longitude', '-5.96'), ('temperature', '8.48')])\n",
            "OrderedDict([('city', 'Belgrade'), ('country', 'Serbia'), ('latitude', '44.82'), ('longitude', '20.47'), ('temperature', '9.85')])\n",
            "OrderedDict([('city', 'Bergamo'), ('country', 'Italy'), ('latitude', '45.70'), ('longitude', '9.67'), ('temperature', '9.12')])\n",
            "OrderedDict([('city', 'Bergen'), ('country', 'Norway'), ('latitude', '60.39'), ('longitude', '5.32'), ('temperature', '1.75')])\n",
            "OrderedDict([('city', 'Berlin'), ('country', 'Germany'), ('latitude', '52.52'), ('longitude', '13.40'), ('temperature', '8.72')])\n",
            "OrderedDict([('city', 'Bialystok'), ('country', 'Poland'), ('latitude', '53.15'), ('longitude', '23.17'), ('temperature', '6.07')])\n",
            "OrderedDict([('city', 'Bielefeld'), ('country', 'Germany'), ('latitude', '52.03'), ('longitude', '8.53'), ('temperature', '8.78')])\n",
            "OrderedDict([('city', 'Bila Tserkva'), ('country', 'Ukraine'), ('latitude', '49.77'), ('longitude', '30.13'), ('temperature', '6.98')])\n",
            "OrderedDict([('city', 'Bilbao'), ('country', 'Spain'), ('latitude', '43.25'), ('longitude', '-2.93'), ('temperature', '11.41')])\n",
            "OrderedDict([('city', 'Birmingham'), ('country', 'United Kingdom'), ('latitude', '52.47'), ('longitude', '-1.92'), ('temperature', '8.81')])\n",
            "OrderedDict([('city', 'Blackpool'), ('country', 'United Kingdom'), ('latitude', '53.83'), ('longitude', '-3.05'), ('temperature', '9.15')])\n",
            "OrderedDict([('city', 'Bodo'), ('country', 'Norway'), ('latitude', '67.25'), ('longitude', '14.40'), ('temperature', '4.50')])\n",
            "OrderedDict([('city', 'Bologna'), ('country', 'Italy'), ('latitude', '44.50'), ('longitude', '11.34'), ('temperature', '11.69')])\n",
            "OrderedDict([('city', 'Bonn'), ('country', 'Germany'), ('latitude', '50.72'), ('longitude', '7.08'), ('temperature', '8.63')])\n",
            "OrderedDict([('city', 'Bordeaux'), ('country', 'France'), ('latitude', '44.85'), ('longitude', '-0.60'), ('temperature', '11.87')])\n",
            "OrderedDict([('city', 'Botosani'), ('country', 'Romania'), ('latitude', '47.75'), ('longitude', '26.66'), ('temperature', '8.23')])\n",
            "OrderedDict([('city', 'Bournemouth'), ('country', 'United Kingdom'), ('latitude', '50.73'), ('longitude', '-1.90'), ('temperature', '9.97')])\n",
            "OrderedDict([('city', 'Bradford'), ('country', 'United Kingdom'), ('latitude', '53.80'), ('longitude', '-1.75'), ('temperature', '8.39')])\n",
            "OrderedDict([('city', 'Braga'), ('country', 'Portugal'), ('latitude', '41.55'), ('longitude', '-8.42'), ('temperature', '13.42')])\n",
            "OrderedDict([('city', 'Braila'), ('country', 'Romania'), ('latitude', '45.29'), ('longitude', '27.97'), ('temperature', '9.78')])\n",
            "OrderedDict([('city', 'Bratislava'), ('country', 'Slovakia'), ('latitude', '48.15'), ('longitude', '17.12'), ('temperature', '9.65')])\n",
            "OrderedDict([('city', 'Bremen'), ('country', 'Germany'), ('latitude', '53.08'), ('longitude', '8.80'), ('temperature', '8.14')])\n",
            "OrderedDict([('city', 'Brest'), ('country', 'France'), ('latitude', '48.39'), ('longitude', '-4.50'), ('temperature', '11.02')])\n",
            "OrderedDict([('city', 'Brest'), ('country', 'Belarus'), ('latitude', '52.10'), ('longitude', '23.70'), ('temperature', '6.73')])\n",
            "OrderedDict([('city', 'Brno'), ('country', 'Czech Republic'), ('latitude', '49.20'), ('longitude', '16.61'), ('temperature', '7.86')])\n",
            "OrderedDict([('city', 'Brugge'), ('country', 'Belgium'), ('latitude', '51.22'), ('longitude', '3.23'), ('temperature', '9.65')])\n",
            "OrderedDict([('city', 'Bucharest'), ('country', 'Romania'), ('latitude', '44.43'), ('longitude', '26.10'), ('temperature', '10.59')])\n",
            "OrderedDict([('city', 'Budapest'), ('country', 'Hungary'), ('latitude', '47.50'), ('longitude', '19.08'), ('temperature', '9.55')])\n",
            "OrderedDict([('city', 'Burgas'), ('country', 'Bulgaria'), ('latitude', '42.51'), ('longitude', '27.47'), ('temperature', '11.93')])\n",
            "OrderedDict([('city', 'Burgos'), ('country', 'Spain'), ('latitude', '42.35'), ('longitude', '-3.68'), ('temperature', '10.45')])\n",
            "OrderedDict([('city', 'Bursa'), ('country', 'Turkey'), ('latitude', '40.20'), ('longitude', '29.07'), ('temperature', '11.16')])\n",
            "OrderedDict([('city', 'Bydgoszcz'), ('country', 'Poland'), ('latitude', '53.12'), ('longitude', '18.01'), ('temperature', '7.14')])\n",
            "OrderedDict([('city', 'Bytom'), ('country', 'Poland'), ('latitude', '50.35'), ('longitude', '18.91'), ('temperature', '7.66')])\n",
            "OrderedDict([('city', 'Caen'), ('country', 'France'), ('latitude', '49.18'), ('longitude', '-0.35'), ('temperature', '9.96')])\n",
            "OrderedDict([('city', 'Cambridge'), ('country', 'United Kingdom'), ('latitude', '52.20'), ('longitude', '0.12'), ('temperature', '9.25')])\n",
            "OrderedDict([('city', 'Cartagena'), ('country', 'Spain'), ('latitude', '37.60'), ('longitude', '-0.98'), ('temperature', '17.32')])\n",
            "OrderedDict([('city', 'Catania'), ('country', 'Italy'), ('latitude', '37.50'), ('longitude', '15.08'), ('temperature', '15.04')])\n",
            "OrderedDict([('city', 'Chemnitz'), ('country', 'Germany'), ('latitude', '50.83'), ('longitude', '12.92'), ('temperature', '8.05')])\n",
            "OrderedDict([('city', 'Cherkasy'), ('country', 'Ukraine'), ('latitude', '49.43'), ('longitude', '32.07'), ('temperature', '7.19')])\n",
            "OrderedDict([('city', 'Chernihiv'), ('country', 'Ukraine'), ('latitude', '51.50'), ('longitude', '31.30'), ('temperature', '5.92')])\n",
            "OrderedDict([('city', 'Chernivtsi'), ('country', 'Ukraine'), ('latitude', '48.31'), ('longitude', '25.92'), ('temperature', '7.06')])\n",
            "OrderedDict([('city', 'Chisinau'), ('country', 'Moldova'), ('latitude', '47.01'), ('longitude', '28.86'), ('temperature', '8.60')])\n",
            "OrderedDict([('city', 'Constanta'), ('country', 'Romania'), ('latitude', '44.20'), ('longitude', '28.61'), ('temperature', '11.24')])\n",
            "OrderedDict([('city', 'Cork'), ('country', 'Ireland'), ('latitude', '51.90'), ('longitude', '-8.50'), ('temperature', '9.41')])\n",
            "OrderedDict([('city', 'Cosenza'), ('country', 'Italy'), ('latitude', '39.27'), ('longitude', '16.29'), ('temperature', '16.60')])\n",
            "OrderedDict([('city', 'Craiova'), ('country', 'Romania'), ('latitude', '44.33'), ('longitude', '23.83'), ('temperature', '10.51')])\n",
            "OrderedDict([('city', 'Daugavpils'), ('country', 'Latvia'), ('latitude', '55.88'), ('longitude', '26.51'), ('temperature', '5.38')])\n",
            "OrderedDict([('city', 'Debrecen'), ('country', 'Hungary'), ('latitude', '47.53'), ('longitude', '21.63'), ('temperature', '8.87')])\n",
            "OrderedDict([('city', 'Denizli'), ('country', 'Turkey'), ('latitude', '37.77'), ('longitude', '29.08'), ('temperature', '15.02')])\n",
            "OrderedDict([('city', 'Dijon'), ('country', 'France'), ('latitude', '47.33'), ('longitude', '5.03'), ('temperature', '8.69')])\n",
            "OrderedDict([('city', 'Dublin'), ('country', 'Ireland'), ('latitude', '53.33'), ('longitude', '-6.25'), ('temperature', '8.49')])\n",
            "OrderedDict([('city', 'Dundee'), ('country', 'United Kingdom'), ('latitude', '56.47'), ('longitude', '-3.00'), ('temperature', '6.40')])\n",
            "OrderedDict([('city', 'Edinburgh'), ('country', 'United Kingdom'), ('latitude', '55.95'), ('longitude', '-3.22'), ('temperature', '7.43')])\n",
            "OrderedDict([('city', 'Edirne'), ('country', 'Turkey'), ('latitude', '41.67'), ('longitude', '26.57'), ('temperature', '10.90')])\n",
            "OrderedDict([('city', 'Elbasan'), ('country', 'Albania'), ('latitude', '41.12'), ('longitude', '20.08'), ('temperature', '15.18')])\n",
            "OrderedDict([('city', 'Elblag'), ('country', 'Poland'), ('latitude', '54.19'), ('longitude', '19.40'), ('temperature', '6.68')])\n",
            "OrderedDict([('city', 'Erfurt'), ('country', 'Germany'), ('latitude', '50.97'), ('longitude', '11.03'), ('temperature', '7.40')])\n",
            "OrderedDict([('city', 'Erzincan'), ('country', 'Turkey'), ('latitude', '39.75'), ('longitude', '39.49'), ('temperature', '8.67')])\n",
            "OrderedDict([('city', 'Erzurum'), ('country', 'Turkey'), ('latitude', '39.92'), ('longitude', '41.29'), ('temperature', '5.17')])\n",
            "OrderedDict([('city', 'Eskisehir'), ('country', 'Turkey'), ('latitude', '39.79'), ('longitude', '30.53'), ('temperature', '11.11')])\n",
            "OrderedDict([('city', 'Exeter'), ('country', 'United Kingdom'), ('latitude', '50.70'), ('longitude', '-3.53'), ('temperature', '10.14')])\n",
            "OrderedDict([('city', 'Foggia'), ('country', 'Italy'), ('latitude', '41.46'), ('longitude', '15.56'), ('temperature', '13.83')])\n",
            "OrderedDict([('city', 'Frankfurt'), ('country', 'Germany'), ('latitude', '50.10'), ('longitude', '8.68'), ('temperature', '7.98')])\n",
            "OrderedDict([('city', 'Freiburg'), ('country', 'Germany'), ('latitude', '48.00'), ('longitude', '7.87'), ('temperature', '6.68')])\n",
            "OrderedDict([('city', 'Galway'), ('country', 'Ireland'), ('latitude', '53.27'), ('longitude', '-9.05'), ('temperature', '10.00')])\n",
            "OrderedDict([('city', 'Gaziantep'), ('country', 'Turkey'), ('latitude', '37.07'), ('longitude', '37.38'), ('temperature', '13.46')])\n",
            "OrderedDict([('city', 'Geneva'), ('country', 'Switzerland'), ('latitude', '46.21'), ('longitude', '6.14'), ('temperature', '8.40')])\n",
            "OrderedDict([('city', 'Genoa'), ('country', 'Italy'), ('latitude', '44.41'), ('longitude', '8.93'), ('temperature', '12.94')])\n",
            "OrderedDict([('city', 'Glasgow'), ('country', 'United Kingdom'), ('latitude', '55.87'), ('longitude', '-4.25'), ('temperature', '8.60')])\n",
            "OrderedDict([('city', 'Göteborg'), ('country', 'Sweden'), ('latitude', '57.75'), ('longitude', '12.00'), ('temperature', '5.76')])\n",
            "OrderedDict([('city', 'Granada'), ('country', 'Spain'), ('latitude', '37.16'), ('longitude', '-3.59'), ('temperature', '16.33')])\n",
            "OrderedDict([('city', 'Graz'), ('country', 'Austria'), ('latitude', '47.08'), ('longitude', '15.41'), ('temperature', '6.91')])\n",
            "OrderedDict([('city', 'Grenoble'), ('country', 'France'), ('latitude', '45.18'), ('longitude', '5.72'), ('temperature', '8.40')])\n",
            "OrderedDict([('city', 'Groningen'), ('country', 'Netherlands'), ('latitude', '53.22'), ('longitude', '6.58'), ('temperature', '8.71')])\n",
            "OrderedDict([('city', 'Gyor'), ('country', 'Hungary'), ('latitude', '47.70'), ('longitude', '17.63'), ('temperature', '9.65')])\n",
            "OrderedDict([('city', 'Heidelberg'), ('country', 'Germany'), ('latitude', '49.42'), ('longitude', '8.70'), ('temperature', '8.47')])\n",
            "OrderedDict([('city', 'Helsinki'), ('country', 'Finland'), ('latitude', '60.18'), ('longitude', '24.93'), ('temperature', '4.19')])\n",
            "OrderedDict([('city', 'Horlivka'), ('country', 'Ukraine'), ('latitude', '48.30'), ('longitude', '38.05'), ('temperature', '7.12')])\n",
            "OrderedDict([('city', 'Hrodna'), ('country', 'Belarus'), ('latitude', '53.68'), ('longitude', '23.83'), ('temperature', '6.07')])\n",
            "OrderedDict([('city', 'Huelva'), ('country', 'Spain'), ('latitude', '37.25'), ('longitude', '-6.93'), ('temperature', '17.09')])\n",
            "OrderedDict([('city', 'Ingolstadt'), ('country', 'Germany'), ('latitude', '48.77'), ('longitude', '11.45'), ('temperature', '7.57')])\n",
            "OrderedDict([('city', 'Innsbruck'), ('country', 'Austria'), ('latitude', '47.28'), ('longitude', '11.41'), ('temperature', '4.54')])\n",
            "OrderedDict([('city', 'Inverness'), ('country', 'United Kingdom'), ('latitude', '57.47'), ('longitude', '-4.23'), ('temperature', '8.00')])\n",
            "OrderedDict([('city', 'Istanbul'), ('country', 'Turkey'), ('latitude', '41.10'), ('longitude', '29.01'), ('temperature', '13.20')])\n",
            "OrderedDict([('city', 'Kalamata'), ('country', 'Greece'), ('latitude', '37.04'), ('longitude', '22.11'), ('temperature', '17.30')])\n",
            "OrderedDict([('city', 'Karaman'), ('country', 'Turkey'), ('latitude', '37.18'), ('longitude', '33.22'), ('temperature', '10.41')])\n",
            "OrderedDict([('city', 'Karlsruhe'), ('country', 'Germany'), ('latitude', '49.00'), ('longitude', '8.40'), ('temperature', '8.88')])\n",
            "OrderedDict([('city', 'Kaunas'), ('country', 'Lithuania'), ('latitude', '54.95'), ('longitude', '23.88'), ('temperature', '6.05')])\n",
            "OrderedDict([('city', 'Kayseri'), ('country', 'Turkey'), ('latitude', '38.73'), ('longitude', '35.49'), ('temperature', '8.89')])\n",
            "OrderedDict([('city', 'Kherson'), ('country', 'Ukraine'), ('latitude', '46.63'), ('longitude', '32.60'), ('temperature', '8.64')])\n",
            "OrderedDict([('city', 'Kielce'), ('country', 'Poland'), ('latitude', '50.89'), ('longitude', '20.66'), ('temperature', '7.29')])\n",
            "OrderedDict([('city', 'Kiev'), ('country', 'Ukraine'), ('latitude', '50.43'), ('longitude', '30.52'), ('temperature', '6.88')])\n",
            "OrderedDict([('city', 'Kiruna'), ('country', 'Sweden'), ('latitude', '67.85'), ('longitude', '20.22'), ('temperature', '-2.20')])\n",
            "OrderedDict([('city', 'Klaipeda'), ('country', 'Lithuania'), ('latitude', '55.72'), ('longitude', '21.12'), ('temperature', '7.00')])\n",
            "OrderedDict([('city', 'Kosice'), ('country', 'Slovakia'), ('latitude', '48.73'), ('longitude', '21.25'), ('temperature', '7.31')])\n",
            "OrderedDict([('city', 'Koszalin'), ('country', 'Poland'), ('latitude', '54.20'), ('longitude', '16.18'), ('temperature', '7.73')])\n",
            "OrderedDict([('city', 'Kremenchuk'), ('country', 'Ukraine'), ('latitude', '49.08'), ('longitude', '33.43'), ('temperature', '7.43')])\n",
            "OrderedDict([('city', 'Kryvyy Rih'), ('country', 'Ukraine'), ('latitude', '47.93'), ('longitude', '33.34'), ('temperature', '8.61')])\n",
            "OrderedDict([('city', 'Le Mans'), ('country', 'France'), ('latitude', '48.00'), ('longitude', '0.10'), ('temperature', '10.59')])\n",
            "OrderedDict([('city', 'Lille'), ('country', 'France'), ('latitude', '50.65'), ('longitude', '3.08'), ('temperature', '9.65')])\n",
            "OrderedDict([('city', 'Limoges'), ('country', 'France'), ('latitude', '45.83'), ('longitude', '1.25'), ('temperature', '10.32')])\n",
            "OrderedDict([('city', 'Linz'), ('country', 'Austria'), ('latitude', '48.32'), ('longitude', '14.29'), ('temperature', '6.79')])\n",
            "OrderedDict([('city', 'Lisbon'), ('country', 'Portugal'), ('latitude', '38.72'), ('longitude', '-9.14'), ('temperature', '15.52')])\n",
            "OrderedDict([('city', 'Ljubljana'), ('country', 'Slovenia'), ('latitude', '46.06'), ('longitude', '14.51'), ('temperature', '9.27')])\n",
            "OrderedDict([('city', 'Lvov'), ('country', 'Ukraine'), ('latitude', '49.83'), ('longitude', '24.03'), ('temperature', '7.04')])\n",
            "OrderedDict([('city', 'Maastricht'), ('country', 'Netherlands'), ('latitude', '50.85'), ('longitude', '5.68'), ('temperature', '8.63')])\n",
            "OrderedDict([('city', 'Madrid'), ('country', 'Spain'), ('latitude', '40.40'), ('longitude', '-3.68'), ('temperature', '11.19')])\n",
            "OrderedDict([('city', 'Magdeburg'), ('country', 'Germany'), ('latitude', '52.13'), ('longitude', '11.62'), ('temperature', '8.26')])\n",
            "OrderedDict([('city', 'Makiyivka'), ('country', 'Ukraine'), ('latitude', '48.03'), ('longitude', '37.97'), ('temperature', '8.70')])\n",
            "OrderedDict([('city', 'Malatya'), ('country', 'Turkey'), ('latitude', '38.37'), ('longitude', '38.30'), ('temperature', '14.13')])\n",
            "OrderedDict([('city', 'Malmö'), ('country', 'Sweden'), ('latitude', '55.58'), ('longitude', '13.03'), ('temperature', '7.33')])\n",
            "OrderedDict([('city', 'Manisa'), ('country', 'Turkey'), ('latitude', '38.63'), ('longitude', '27.44'), ('temperature', '15.10')])\n",
            "OrderedDict([('city', 'Marbella'), ('country', 'Spain'), ('latitude', '36.52'), ('longitude', '-4.88'), ('temperature', '17.19')])\n",
            "OrderedDict([('city', 'Marseille'), ('country', 'France'), ('latitude', '43.29'), ('longitude', '5.38'), ('temperature', '14.98')])\n",
            "OrderedDict([('city', 'Mazyr'), ('country', 'Belarus'), ('latitude', '52.05'), ('longitude', '29.27'), ('temperature', '6.25')])\n",
            "OrderedDict([('city', 'Messina'), ('country', 'Italy'), ('latitude', '38.20'), ('longitude', '15.55'), ('temperature', '16.54')])\n",
            "OrderedDict([('city', 'Metz'), ('country', 'France'), ('latitude', '49.12'), ('longitude', '6.18'), ('temperature', '8.88')])\n",
            "OrderedDict([('city', 'Milan'), ('country', 'Italy'), ('latitude', '45.47'), ('longitude', '9.21'), ('temperature', '6.65')])\n",
            "OrderedDict([('city', 'Minsk'), ('country', 'Belarus'), ('latitude', '53.90'), ('longitude', '27.57'), ('temperature', '5.28')])\n",
            "OrderedDict([('city', 'Montpellier'), ('country', 'France'), ('latitude', '43.61'), ('longitude', '3.87'), ('temperature', '11.11')])\n",
            "OrderedDict([('city', 'Mulhouse'), ('country', 'France'), ('latitude', '47.75'), ('longitude', '7.35'), ('temperature', '6.68')])\n",
            "OrderedDict([('city', 'Murcia'), ('country', 'Spain'), ('latitude', '37.98'), ('longitude', '-1.13'), ('temperature', '15.00')])\n",
            "OrderedDict([('city', 'Nice'), ('country', 'France'), ('latitude', '43.72'), ('longitude', '7.27'), ('temperature', '8.82')])\n",
            "OrderedDict([('city', 'Nis'), ('country', 'Serbia'), ('latitude', '43.33'), ('longitude', '21.90'), ('temperature', '9.36')])\n",
            "OrderedDict([('city', 'Novi Sad'), ('country', 'Serbia'), ('latitude', '45.25'), ('longitude', '19.85'), ('temperature', '10.34')])\n",
            "OrderedDict([('city', 'Odense'), ('country', 'Denmark'), ('latitude', '55.40'), ('longitude', '10.38'), ('temperature', '7.73')])\n",
            "OrderedDict([('city', 'Ordu'), ('country', 'Turkey'), ('latitude', '41.00'), ('longitude', '37.87'), ('temperature', '11.92')])\n",
            "OrderedDict([('city', 'Orsha'), ('country', 'Belarus'), ('latitude', '54.52'), ('longitude', '30.42'), ('temperature', '4.93')])\n",
            "OrderedDict([('city', 'Oslo'), ('country', 'Norway'), ('latitude', '59.92'), ('longitude', '10.75'), ('temperature', '2.32')])\n",
            "OrderedDict([('city', 'Ostrava'), ('country', 'Czech Republic'), ('latitude', '49.83'), ('longitude', '18.25'), ('temperature', '7.66')])\n",
            "OrderedDict([('city', 'Oulu'), ('country', 'Finland'), ('latitude', '65.00'), ('longitude', '25.47'), ('temperature', '1.45')])\n",
            "OrderedDict([('city', 'Oviedo'), ('country', 'Spain'), ('latitude', '43.35'), ('longitude', '-5.83'), ('temperature', '10.85')])\n",
            "OrderedDict([('city', 'Palermo'), ('country', 'Italy'), ('latitude', '38.13'), ('longitude', '13.35'), ('temperature', '17.90')])\n",
            "OrderedDict([('city', 'Patras'), ('country', 'Greece'), ('latitude', '38.23'), ('longitude', '21.73'), ('temperature', '16.90')])\n",
            "OrderedDict([('city', 'Perpignan'), ('country', 'France'), ('latitude', '42.70'), ('longitude', '2.90'), ('temperature', '10.95')])\n",
            "OrderedDict([('city', 'Perugia'), ('country', 'Italy'), ('latitude', '43.11'), ('longitude', '12.39'), ('temperature', '11.70')])\n",
            "OrderedDict([('city', 'Pescara'), ('country', 'Italy'), ('latitude', '42.46'), ('longitude', '14.22'), ('temperature', '15.13')])\n",
            "OrderedDict([('city', 'Pinsk'), ('country', 'Belarus'), ('latitude', '52.13'), ('longitude', '26.09'), ('temperature', '6.42')])\n",
            "OrderedDict([('city', 'Pleven'), ('country', 'Bulgaria'), ('latitude', '43.42'), ('longitude', '24.61'), ('temperature', '10.51')])\n",
            "OrderedDict([('city', 'Plovdiv'), ('country', 'Bulgaria'), ('latitude', '42.15'), ('longitude', '24.75'), ('temperature', '8.27')])\n",
            "OrderedDict([('city', 'Podgorica'), ('country', 'Montenegro'), ('latitude', '42.47'), ('longitude', '19.27'), ('temperature', '9.99')])\n",
            "OrderedDict([('city', 'Poznan'), ('country', 'Poland'), ('latitude', '52.41'), ('longitude', '16.90'), ('temperature', '8.31')])\n",
            "OrderedDict([('city', 'Prague'), ('country', 'Czech Republic'), ('latitude', '50.08'), ('longitude', '14.47'), ('temperature', '8.05')])\n",
            "OrderedDict([('city', 'Reims'), ('country', 'France'), ('latitude', '49.25'), ('longitude', '4.03'), ('temperature', '9.40')])\n",
            "OrderedDict([('city', 'Riga'), ('country', 'Latvia'), ('latitude', '56.95'), ('longitude', '24.10'), ('temperature', '5.16')])\n",
            "OrderedDict([('city', 'Rijeka'), ('country', 'Croatia'), ('latitude', '45.33'), ('longitude', '14.45'), ('temperature', '9.27')])\n",
            "OrderedDict([('city', 'Rivne'), ('country', 'Ukraine'), ('latitude', '50.62'), ('longitude', '26.25'), ('temperature', '6.76')])\n",
            "OrderedDict([('city', 'Rome'), ('country', 'Italy'), ('latitude', '41.90'), ('longitude', '12.48'), ('temperature', '15.10')])\n",
            "OrderedDict([('city', 'Rostock'), ('country', 'Germany'), ('latitude', '54.07'), ('longitude', '12.15'), ('temperature', '8.07')])\n",
            "OrderedDict([('city', 'Ruse'), ('country', 'Bulgaria'), ('latitude', '43.85'), ('longitude', '25.97'), ('temperature', '10.59')])\n",
            "OrderedDict([('city', 'Salamanca'), ('country', 'Spain'), ('latitude', '40.97'), ('longitude', '-5.67'), ('temperature', '11.63')])\n",
            "OrderedDict([('city', 'Salzburg'), ('country', 'Austria'), ('latitude', '47.81'), ('longitude', '13.04'), ('temperature', '4.62')])\n",
            "OrderedDict([('city', 'Samsun'), ('country', 'Turkey'), ('latitude', '41.28'), ('longitude', '36.34'), ('temperature', '12.05')])\n",
            "OrderedDict([('city', 'Santander'), ('country', 'Spain'), ('latitude', '43.38'), ('longitude', '-3.80'), ('temperature', '13.40')])\n",
            "OrderedDict([('city', 'Sarajevo'), ('country', 'Bosnia and Herzegovina'), ('latitude', '43.85'), ('longitude', '13.38'), ('temperature', '9.60')])\n",
            "OrderedDict([('city', 'Sibiu'), ('country', 'Romania'), ('latitude', '45.80'), ('longitude', '24.14'), ('temperature', '6.97')])\n",
            "OrderedDict([('city', 'Siirt'), ('country', 'Turkey'), ('latitude', '37.94'), ('longitude', '41.93'), ('temperature', '12.48')])\n",
            "OrderedDict([('city', 'Sivas'), ('country', 'Turkey'), ('latitude', '39.75'), ('longitude', '37.03'), ('temperature', '8.05')])\n",
            "OrderedDict([('city', 'Skopje'), ('country', 'Macedonia'), ('latitude', '42.00'), ('longitude', '21.43'), ('temperature', '9.36')])\n",
            "OrderedDict([('city', 'Split'), ('country', 'Croatia'), ('latitude', '43.52'), ('longitude', '16.47'), ('temperature', '12.46')])\n",
            "OrderedDict([('city', 'Stara Zagora'), ('country', 'Bulgaria'), ('latitude', '42.42'), ('longitude', '25.62'), ('temperature', '10.90')])\n",
            "OrderedDict([('city', 'Stavanger'), ('country', 'Norway'), ('latitude', '58.97'), ('longitude', '5.68'), ('temperature', '5.53')])\n",
            "OrderedDict([('city', 'Stockholm'), ('country', 'Sweden'), ('latitude', '59.35'), ('longitude', '18.10'), ('temperature', '6.26')])\n",
            "OrderedDict([('city', 'Sumy'), ('country', 'Ukraine'), ('latitude', '50.92'), ('longitude', '34.78'), ('temperature', '6.28')])\n",
            "OrderedDict([('city', 'Swansea'), ('country', 'United Kingdom'), ('latitude', '51.63'), ('longitude', '-3.95'), ('temperature', '9.73')])\n",
            "OrderedDict([('city', 'Szeged'), ('country', 'Hungary'), ('latitude', '46.25'), ('longitude', '20.15'), ('temperature', '10.34')])\n",
            "OrderedDict([('city', 'Tallinn'), ('country', 'Estonia'), ('latitude', '59.43'), ('longitude', '24.73'), ('temperature', '4.82')])\n",
            "OrderedDict([('city', 'Tampere'), ('country', 'Finland'), ('latitude', '61.50'), ('longitude', '23.75'), ('temperature', '3.59')])\n",
            "OrderedDict([('city', 'Tarsus'), ('country', 'Turkey'), ('latitude', '36.92'), ('longitude', '34.88'), ('temperature', '11.21')])\n",
            "OrderedDict([('city', 'Tartu'), ('country', 'Estonia'), ('latitude', '58.38'), ('longitude', '26.71'), ('temperature', '4.36')])\n",
            "OrderedDict([('city', 'Tekirdag'), ('country', 'Turkey'), ('latitude', '40.99'), ('longitude', '27.51'), ('temperature', '13.02')])\n",
            "OrderedDict([('city', 'Toulouse'), ('country', 'France'), ('latitude', '43.62'), ('longitude', '1.45'), ('temperature', '10.25')])\n",
            "OrderedDict([('city', 'Trabzon'), ('country', 'Turkey'), ('latitude', '40.98'), ('longitude', '39.72'), ('temperature', '10.28')])\n",
            "OrderedDict([('city', 'Trieste'), ('country', 'Italy'), ('latitude', '45.65'), ('longitude', '13.80'), ('temperature', '11.21')])\n",
            "OrderedDict([('city', 'Trikala'), ('country', 'Greece'), ('latitude', '39.56'), ('longitude', '21.77'), ('temperature', '16.00')])\n",
            "OrderedDict([('city', 'Trondheim'), ('country', 'Norway'), ('latitude', '63.42'), ('longitude', '10.42'), ('temperature', '4.53')])\n",
            "OrderedDict([('city', 'Turku'), ('country', 'Finland'), ('latitude', '60.45'), ('longitude', '22.25'), ('temperature', '4.72')])\n",
            "OrderedDict([('city', 'Uppsala'), ('country', 'Sweden'), ('latitude', '59.86'), ('longitude', '17.64'), ('temperature', '4.17')])\n",
            "OrderedDict([('city', 'Valencia'), ('country', 'Spain'), ('latitude', '39.49'), ('longitude', '-0.40'), ('temperature', '16.02')])\n",
            "OrderedDict([('city', 'Vienna'), ('country', 'Austria'), ('latitude', '48.20'), ('longitude', '16.37'), ('temperature', '7.86')])\n",
            "OrderedDict([('city', 'Vigo'), ('country', 'Spain'), ('latitude', '42.22'), ('longitude', '-8.73'), ('temperature', '12.85')])\n",
            "OrderedDict([('city', 'Vilnius'), ('country', 'Lithuania'), ('latitude', '54.68'), ('longitude', '25.32'), ('temperature', '5.38')])\n",
            "OrderedDict([('city', 'Warsaw'), ('country', 'Poland'), ('latitude', '52.25'), ('longitude', '21.00'), ('temperature', '7.20')])\n",
            "OrderedDict([('city', 'Wroclaw'), ('country', 'Poland'), ('latitude', '51.11'), ('longitude', '17.03'), ('temperature', '7.17')])\n",
            "OrderedDict([('city', 'Yevpatoriya'), ('country', 'Ukraine'), ('latitude', '45.20'), ('longitude', '33.36'), ('temperature', '10.02')])\n",
            "OrderedDict([('city', 'Zaragoza'), ('country', 'Spain'), ('latitude', '41.65'), ('longitude', '-0.89'), ('temperature', '14.17')])\n",
            "OrderedDict([('city', 'Zhytomyr'), ('country', 'Ukraine'), ('latitude', '50.25'), ('longitude', '28.66'), ('temperature', '6.67')])\n",
            "OrderedDict([('city', 'Zonguldak'), ('country', 'Turkey'), ('latitude', '41.43'), ('longitude', '31.78'), ('temperature', '10.64')])\n",
            "OrderedDict([('city', 'Zurich'), ('country', 'Switzerland'), ('latitude', '47.38'), ('longitude', '8.56'), ('temperature', '6.68')])\n"
          ]
        }
      ],
      "source": [
        "# Use el paquete csv 'DictReader' para leer los datos de Cities.csv\n",
        "# Asegúrese de que el archivo de datos esté en la misma carpeta que el cuaderno\n",
        "# Después del encabezado, los datos se leen fila por fila en formato de diccionario\n",
        "# Tenga en cuenta que todos los valores se leen como \"STRINGS\"\n",
        "with open('Cities.csv') as f:\n",
        "    rows = csv.DictReader(f)\n",
        "    for r in rows:\n",
        "        print(r)"
      ]
    },
    {
      "cell_type": "code",
      "execution_count": null,
      "metadata": {
        "id": "aIil57kyoTB5",
        "colab": {
          "base_uri": "https://localhost:8080/"
        },
        "outputId": "2a341186-5041-4ed6-fbcb-f27657270f17"
      },
      "outputs": [
        {
          "output_type": "stream",
          "name": "stdout",
          "text": [
            "Aalborg 9.92\n",
            "Aberdeen -2.08\n",
            "Abisko 18.83\n",
            "Amsterdam 4.92\n",
            "Andorra 1.52\n",
            "Ankara 32.86\n",
            "Arad 21.32\n",
            "Augsburg 10.90\n",
            "Bacau 26.92\n",
            "Baia Mare 23.58\n",
            "Balti 27.91\n",
            "Basel 7.59\n",
            "Belfast -5.96\n",
            "Belgrade 20.47\n",
            "Bergamo 9.67\n",
            "Bergen 5.32\n",
            "Berlin 13.40\n",
            "Bialystok 23.17\n",
            "Bielefeld 8.53\n",
            "Bila Tserkva 30.13\n",
            "Birmingham -1.92\n",
            "Blackpool -3.05\n",
            "Bodo 14.40\n",
            "Bonn 7.08\n",
            "Botosani 26.66\n",
            "Bournemouth -1.90\n",
            "Bradford -1.75\n",
            "Braila 27.97\n",
            "Bratislava 17.12\n",
            "Bremen 8.80\n",
            "Brest 23.70\n",
            "Brno 16.61\n",
            "Brugge 3.23\n",
            "Budapest 19.08\n",
            "Bydgoszcz 18.01\n",
            "Bytom 18.91\n",
            "Caen -0.35\n",
            "Cambridge 0.12\n",
            "Chemnitz 12.92\n",
            "Cherkasy 32.07\n",
            "Chernihiv 31.30\n",
            "Chernivtsi 25.92\n",
            "Chisinau 28.86\n",
            "Cork -8.50\n",
            "Daugavpils 26.51\n",
            "Debrecen 21.63\n",
            "Dijon 5.03\n",
            "Dublin -6.25\n",
            "Dundee -3.00\n",
            "Edinburgh -3.22\n",
            "Elblag 19.40\n",
            "Erfurt 11.03\n",
            "Erzincan 39.49\n",
            "Erzurum 41.29\n",
            "Frankfurt 8.68\n",
            "Freiburg 7.87\n",
            "Geneva 6.14\n",
            "Glasgow -4.25\n",
            "Göteborg 12.00\n",
            "Graz 15.41\n",
            "Grenoble 5.72\n",
            "Groningen 6.58\n",
            "Gyor 17.63\n",
            "Heidelberg 8.70\n",
            "Helsinki 24.93\n",
            "Horlivka 38.05\n",
            "Hrodna 23.83\n",
            "Ingolstadt 11.45\n",
            "Innsbruck 11.41\n",
            "Inverness -4.23\n",
            "Karlsruhe 8.40\n",
            "Kaunas 23.88\n",
            "Kayseri 35.49\n",
            "Kherson 32.60\n",
            "Kielce 20.66\n",
            "Kiev 30.52\n",
            "Kiruna 20.22\n",
            "Klaipeda 21.12\n",
            "Kosice 21.25\n",
            "Koszalin 16.18\n",
            "Kremenchuk 33.43\n",
            "Kryvyy Rih 33.34\n",
            "Lille 3.08\n",
            "Linz 14.29\n",
            "Ljubljana 14.51\n",
            "Lvov 24.03\n",
            "Maastricht 5.68\n",
            "Magdeburg 11.62\n",
            "Makiyivka 37.97\n",
            "Malmö 13.03\n",
            "Mazyr 29.27\n",
            "Metz 6.18\n",
            "Milan 9.21\n",
            "Minsk 27.57\n",
            "Mulhouse 7.35\n",
            "Nice 7.27\n",
            "Nis 21.90\n",
            "Odense 10.38\n",
            "Orsha 30.42\n",
            "Oslo 10.75\n",
            "Ostrava 18.25\n",
            "Oulu 25.47\n",
            "Pinsk 26.09\n",
            "Plovdiv 24.75\n",
            "Podgorica 19.27\n",
            "Poznan 16.90\n",
            "Prague 14.47\n",
            "Reims 4.03\n",
            "Riga 24.10\n",
            "Rijeka 14.45\n",
            "Rivne 26.25\n",
            "Rostock 12.15\n",
            "Salzburg 13.04\n",
            "Sarajevo 13.38\n",
            "Sibiu 24.14\n",
            "Sivas 37.03\n",
            "Skopje 21.43\n",
            "Stavanger 5.68\n",
            "Stockholm 18.10\n",
            "Sumy 34.78\n",
            "Swansea -3.95\n",
            "Tallinn 24.73\n",
            "Tampere 23.75\n",
            "Tartu 26.71\n",
            "Trondheim 10.42\n",
            "Turku 22.25\n",
            "Uppsala 17.64\n",
            "Vienna 16.37\n",
            "Vilnius 25.32\n",
            "Warsaw 21.00\n",
            "Wroclaw 17.03\n",
            "Zhytomyr 28.66\n",
            "Zurich 8.56\n"
          ]
        }
      ],
      "source": [
        "# Imprime la ciudad y la longitud de todas las ciudades con longitud < 0\n",
        "with open('Cities.csv') as f:\n",
        "    rows = csv.DictReader(f)\n",
        "    for r in rows:\n",
        "        if float(r['temperature']) < 10:\n",
        "            print(r['city'], r['longitude'])\n",
        "# Mostrar lo que sucede sin float()"
      ]
    },
    {
      "cell_type": "markdown",
      "metadata": {
        "id": "m0Cnk3-OoTB5"
      },
      "source": [
        "### <font color=\"green\">**Tu turno**</font>"
      ]
    },
    {
      "cell_type": "code",
      "execution_count": null,
      "metadata": {
        "id": "mSbdhJs4oTB5",
        "colab": {
          "base_uri": "https://localhost:8080/"
        },
        "outputId": "015f86be-356b-42d5-e920-985e206e8078"
      },
      "outputs": [
        {
          "output_type": "stream",
          "name": "stdout",
          "text": [
            "Albania 2.9\n",
            "Bosnia and Herzegovina 3.8\n",
            "Iceland 0.33\n",
            "Montenegro 0.63\n",
            "Norway 5.27\n",
            "Turkey 79.62\n",
            "Ukraine 44.62\n"
          ]
        }
      ],
      "source": [
        "# Usando el paquete csv 'DictReader' para leer los datos de Countries.csv,\n",
        "# encontrar todos los países que tienen costa y no pertenecen a la UE.\n",
        "# Imprimir los países y sus poblaciones.\n",
        "# Nota: en Python, use '==' para probar la igualdad\n",
        "\n",
        "with open('Countries.csv') as f:\n",
        "    rows = csv.DictReader(f)\n",
        "    for r in rows:\n",
        "        if r['coastline'] == 'yes' and r['EU'] == 'no':\n",
        "            print(r['country'], r['population'])"
      ]
    },
    {
      "cell_type": "markdown",
      "metadata": {
        "id": "og8SSmsRoTB6"
      },
      "source": [
        "### Lectura de datos en estructuras de datos - Python"
      ]
    },
    {
      "cell_type": "code",
      "execution_count": null,
      "metadata": {
        "id": "Gi0HVh3ToTB6",
        "colab": {
          "base_uri": "https://localhost:8080/"
        },
        "outputId": "25b93e82-d147-422f-ec9c-69b2ae77101e"
      },
      "outputs": [
        {
          "output_type": "stream",
          "name": "stdout",
          "text": [
            "[OrderedDict([('city', 'Aalborg'), ('country', 'Denmark'), ('latitude', '57.03'), ('longitude', '9.92'), ('temperature', '7.52')]), OrderedDict([('city', 'Aberdeen'), ('country', 'United Kingdom'), ('latitude', '57.17'), ('longitude', '-2.08'), ('temperature', '8.10')]), OrderedDict([('city', 'Abisko'), ('country', 'Sweden'), ('latitude', '63.35'), ('longitude', '18.83'), ('temperature', '0.20')]), OrderedDict([('city', 'Adana'), ('country', 'Turkey'), ('latitude', '36.99'), ('longitude', '35.32'), ('temperature', '18.67')]), OrderedDict([('city', 'Albacete'), ('country', 'Spain'), ('latitude', '39.00'), ('longitude', '-1.87'), ('temperature', '12.62')]), OrderedDict([('city', 'Algeciras'), ('country', 'Spain'), ('latitude', '36.13'), ('longitude', '-5.47'), ('temperature', '17.38')]), OrderedDict([('city', 'Amiens'), ('country', 'France'), ('latitude', '49.90'), ('longitude', '2.30'), ('temperature', '10.17')]), OrderedDict([('city', 'Amsterdam'), ('country', 'Netherlands'), ('latitude', '52.35'), ('longitude', '4.92'), ('temperature', '8.93')]), OrderedDict([('city', 'Ancona'), ('country', 'Italy'), ('latitude', '43.60'), ('longitude', '13.50'), ('temperature', '13.52')]), OrderedDict([('city', 'Andorra'), ('country', 'Andorra'), ('latitude', '42.50'), ('longitude', '1.52'), ('temperature', '9.60')]), OrderedDict([('city', 'Angers'), ('country', 'France'), ('latitude', '47.48'), ('longitude', '-0.53'), ('temperature', '10.98')]), OrderedDict([('city', 'Ankara'), ('country', 'Turkey'), ('latitude', '39.93'), ('longitude', '32.86'), ('temperature', '9.86')]), OrderedDict([('city', 'Antalya'), ('country', 'Turkey'), ('latitude', '36.89'), ('longitude', '30.70'), ('temperature', '11.88')]), OrderedDict([('city', 'Arad'), ('country', 'Romania'), ('latitude', '46.17'), ('longitude', '21.32'), ('temperature', '9.32')]), OrderedDict([('city', 'Athens'), ('country', 'Greece'), ('latitude', '37.98'), ('longitude', '23.73'), ('temperature', '17.41')]), OrderedDict([('city', 'Augsburg'), ('country', 'Germany'), ('latitude', '48.35'), ('longitude', '10.90'), ('temperature', '4.54')]), OrderedDict([('city', 'Bacau'), ('country', 'Romania'), ('latitude', '46.58'), ('longitude', '26.92'), ('temperature', '7.51')]), OrderedDict([('city', 'Badajoz'), ('country', 'Spain'), ('latitude', '38.88'), ('longitude', '-6.97'), ('temperature', '15.61')]), OrderedDict([('city', 'Baia Mare'), ('country', 'Romania'), ('latitude', '47.66'), ('longitude', '23.58'), ('temperature', '8.87')]), OrderedDict([('city', 'Balti'), ('country', 'Moldova'), ('latitude', '47.76'), ('longitude', '27.91'), ('temperature', '8.23')]), OrderedDict([('city', 'Barcelona'), ('country', 'Spain'), ('latitude', '41.38'), ('longitude', '2.18'), ('temperature', '15.78')]), OrderedDict([('city', 'Bari'), ('country', 'Italy'), ('latitude', '41.11'), ('longitude', '16.87'), ('temperature', '15.15')]), OrderedDict([('city', 'Basel'), ('country', 'Switzerland'), ('latitude', '47.58'), ('longitude', '7.59'), ('temperature', '6.68')]), OrderedDict([('city', 'Batman'), ('country', 'Turkey'), ('latitude', '37.89'), ('longitude', '41.14'), ('temperature', '14.16')]), OrderedDict([('city', 'Belfast'), ('country', 'United Kingdom'), ('latitude', '54.60'), ('longitude', '-5.96'), ('temperature', '8.48')]), OrderedDict([('city', 'Belgrade'), ('country', 'Serbia'), ('latitude', '44.82'), ('longitude', '20.47'), ('temperature', '9.85')]), OrderedDict([('city', 'Bergamo'), ('country', 'Italy'), ('latitude', '45.70'), ('longitude', '9.67'), ('temperature', '9.12')]), OrderedDict([('city', 'Bergen'), ('country', 'Norway'), ('latitude', '60.39'), ('longitude', '5.32'), ('temperature', '1.75')]), OrderedDict([('city', 'Berlin'), ('country', 'Germany'), ('latitude', '52.52'), ('longitude', '13.40'), ('temperature', '8.72')]), OrderedDict([('city', 'Bialystok'), ('country', 'Poland'), ('latitude', '53.15'), ('longitude', '23.17'), ('temperature', '6.07')]), OrderedDict([('city', 'Bielefeld'), ('country', 'Germany'), ('latitude', '52.03'), ('longitude', '8.53'), ('temperature', '8.78')]), OrderedDict([('city', 'Bila Tserkva'), ('country', 'Ukraine'), ('latitude', '49.77'), ('longitude', '30.13'), ('temperature', '6.98')]), OrderedDict([('city', 'Bilbao'), ('country', 'Spain'), ('latitude', '43.25'), ('longitude', '-2.93'), ('temperature', '11.41')]), OrderedDict([('city', 'Birmingham'), ('country', 'United Kingdom'), ('latitude', '52.47'), ('longitude', '-1.92'), ('temperature', '8.81')]), OrderedDict([('city', 'Blackpool'), ('country', 'United Kingdom'), ('latitude', '53.83'), ('longitude', '-3.05'), ('temperature', '9.15')]), OrderedDict([('city', 'Bodo'), ('country', 'Norway'), ('latitude', '67.25'), ('longitude', '14.40'), ('temperature', '4.50')]), OrderedDict([('city', 'Bologna'), ('country', 'Italy'), ('latitude', '44.50'), ('longitude', '11.34'), ('temperature', '11.69')]), OrderedDict([('city', 'Bonn'), ('country', 'Germany'), ('latitude', '50.72'), ('longitude', '7.08'), ('temperature', '8.63')]), OrderedDict([('city', 'Bordeaux'), ('country', 'France'), ('latitude', '44.85'), ('longitude', '-0.60'), ('temperature', '11.87')]), OrderedDict([('city', 'Botosani'), ('country', 'Romania'), ('latitude', '47.75'), ('longitude', '26.66'), ('temperature', '8.23')]), OrderedDict([('city', 'Bournemouth'), ('country', 'United Kingdom'), ('latitude', '50.73'), ('longitude', '-1.90'), ('temperature', '9.97')]), OrderedDict([('city', 'Bradford'), ('country', 'United Kingdom'), ('latitude', '53.80'), ('longitude', '-1.75'), ('temperature', '8.39')]), OrderedDict([('city', 'Braga'), ('country', 'Portugal'), ('latitude', '41.55'), ('longitude', '-8.42'), ('temperature', '13.42')]), OrderedDict([('city', 'Braila'), ('country', 'Romania'), ('latitude', '45.29'), ('longitude', '27.97'), ('temperature', '9.78')]), OrderedDict([('city', 'Bratislava'), ('country', 'Slovakia'), ('latitude', '48.15'), ('longitude', '17.12'), ('temperature', '9.65')]), OrderedDict([('city', 'Bremen'), ('country', 'Germany'), ('latitude', '53.08'), ('longitude', '8.80'), ('temperature', '8.14')]), OrderedDict([('city', 'Brest'), ('country', 'France'), ('latitude', '48.39'), ('longitude', '-4.50'), ('temperature', '11.02')]), OrderedDict([('city', 'Brest'), ('country', 'Belarus'), ('latitude', '52.10'), ('longitude', '23.70'), ('temperature', '6.73')]), OrderedDict([('city', 'Brno'), ('country', 'Czech Republic'), ('latitude', '49.20'), ('longitude', '16.61'), ('temperature', '7.86')]), OrderedDict([('city', 'Brugge'), ('country', 'Belgium'), ('latitude', '51.22'), ('longitude', '3.23'), ('temperature', '9.65')]), OrderedDict([('city', 'Bucharest'), ('country', 'Romania'), ('latitude', '44.43'), ('longitude', '26.10'), ('temperature', '10.59')]), OrderedDict([('city', 'Budapest'), ('country', 'Hungary'), ('latitude', '47.50'), ('longitude', '19.08'), ('temperature', '9.55')]), OrderedDict([('city', 'Burgas'), ('country', 'Bulgaria'), ('latitude', '42.51'), ('longitude', '27.47'), ('temperature', '11.93')]), OrderedDict([('city', 'Burgos'), ('country', 'Spain'), ('latitude', '42.35'), ('longitude', '-3.68'), ('temperature', '10.45')]), OrderedDict([('city', 'Bursa'), ('country', 'Turkey'), ('latitude', '40.20'), ('longitude', '29.07'), ('temperature', '11.16')]), OrderedDict([('city', 'Bydgoszcz'), ('country', 'Poland'), ('latitude', '53.12'), ('longitude', '18.01'), ('temperature', '7.14')]), OrderedDict([('city', 'Bytom'), ('country', 'Poland'), ('latitude', '50.35'), ('longitude', '18.91'), ('temperature', '7.66')]), OrderedDict([('city', 'Caen'), ('country', 'France'), ('latitude', '49.18'), ('longitude', '-0.35'), ('temperature', '9.96')]), OrderedDict([('city', 'Cambridge'), ('country', 'United Kingdom'), ('latitude', '52.20'), ('longitude', '0.12'), ('temperature', '9.25')]), OrderedDict([('city', 'Cartagena'), ('country', 'Spain'), ('latitude', '37.60'), ('longitude', '-0.98'), ('temperature', '17.32')]), OrderedDict([('city', 'Catania'), ('country', 'Italy'), ('latitude', '37.50'), ('longitude', '15.08'), ('temperature', '15.04')]), OrderedDict([('city', 'Chemnitz'), ('country', 'Germany'), ('latitude', '50.83'), ('longitude', '12.92'), ('temperature', '8.05')]), OrderedDict([('city', 'Cherkasy'), ('country', 'Ukraine'), ('latitude', '49.43'), ('longitude', '32.07'), ('temperature', '7.19')]), OrderedDict([('city', 'Chernihiv'), ('country', 'Ukraine'), ('latitude', '51.50'), ('longitude', '31.30'), ('temperature', '5.92')]), OrderedDict([('city', 'Chernivtsi'), ('country', 'Ukraine'), ('latitude', '48.31'), ('longitude', '25.92'), ('temperature', '7.06')]), OrderedDict([('city', 'Chisinau'), ('country', 'Moldova'), ('latitude', '47.01'), ('longitude', '28.86'), ('temperature', '8.60')]), OrderedDict([('city', 'Constanta'), ('country', 'Romania'), ('latitude', '44.20'), ('longitude', '28.61'), ('temperature', '11.24')]), OrderedDict([('city', 'Cork'), ('country', 'Ireland'), ('latitude', '51.90'), ('longitude', '-8.50'), ('temperature', '9.41')]), OrderedDict([('city', 'Cosenza'), ('country', 'Italy'), ('latitude', '39.27'), ('longitude', '16.29'), ('temperature', '16.60')]), OrderedDict([('city', 'Craiova'), ('country', 'Romania'), ('latitude', '44.33'), ('longitude', '23.83'), ('temperature', '10.51')]), OrderedDict([('city', 'Daugavpils'), ('country', 'Latvia'), ('latitude', '55.88'), ('longitude', '26.51'), ('temperature', '5.38')]), OrderedDict([('city', 'Debrecen'), ('country', 'Hungary'), ('latitude', '47.53'), ('longitude', '21.63'), ('temperature', '8.87')]), OrderedDict([('city', 'Denizli'), ('country', 'Turkey'), ('latitude', '37.77'), ('longitude', '29.08'), ('temperature', '15.02')]), OrderedDict([('city', 'Dijon'), ('country', 'France'), ('latitude', '47.33'), ('longitude', '5.03'), ('temperature', '8.69')]), OrderedDict([('city', 'Dublin'), ('country', 'Ireland'), ('latitude', '53.33'), ('longitude', '-6.25'), ('temperature', '8.49')]), OrderedDict([('city', 'Dundee'), ('country', 'United Kingdom'), ('latitude', '56.47'), ('longitude', '-3.00'), ('temperature', '6.40')]), OrderedDict([('city', 'Edinburgh'), ('country', 'United Kingdom'), ('latitude', '55.95'), ('longitude', '-3.22'), ('temperature', '7.43')]), OrderedDict([('city', 'Edirne'), ('country', 'Turkey'), ('latitude', '41.67'), ('longitude', '26.57'), ('temperature', '10.90')]), OrderedDict([('city', 'Elbasan'), ('country', 'Albania'), ('latitude', '41.12'), ('longitude', '20.08'), ('temperature', '15.18')]), OrderedDict([('city', 'Elblag'), ('country', 'Poland'), ('latitude', '54.19'), ('longitude', '19.40'), ('temperature', '6.68')]), OrderedDict([('city', 'Erfurt'), ('country', 'Germany'), ('latitude', '50.97'), ('longitude', '11.03'), ('temperature', '7.40')]), OrderedDict([('city', 'Erzincan'), ('country', 'Turkey'), ('latitude', '39.75'), ('longitude', '39.49'), ('temperature', '8.67')]), OrderedDict([('city', 'Erzurum'), ('country', 'Turkey'), ('latitude', '39.92'), ('longitude', '41.29'), ('temperature', '5.17')]), OrderedDict([('city', 'Eskisehir'), ('country', 'Turkey'), ('latitude', '39.79'), ('longitude', '30.53'), ('temperature', '11.11')]), OrderedDict([('city', 'Exeter'), ('country', 'United Kingdom'), ('latitude', '50.70'), ('longitude', '-3.53'), ('temperature', '10.14')]), OrderedDict([('city', 'Foggia'), ('country', 'Italy'), ('latitude', '41.46'), ('longitude', '15.56'), ('temperature', '13.83')]), OrderedDict([('city', 'Frankfurt'), ('country', 'Germany'), ('latitude', '50.10'), ('longitude', '8.68'), ('temperature', '7.98')]), OrderedDict([('city', 'Freiburg'), ('country', 'Germany'), ('latitude', '48.00'), ('longitude', '7.87'), ('temperature', '6.68')]), OrderedDict([('city', 'Galway'), ('country', 'Ireland'), ('latitude', '53.27'), ('longitude', '-9.05'), ('temperature', '10.00')]), OrderedDict([('city', 'Gaziantep'), ('country', 'Turkey'), ('latitude', '37.07'), ('longitude', '37.38'), ('temperature', '13.46')]), OrderedDict([('city', 'Geneva'), ('country', 'Switzerland'), ('latitude', '46.21'), ('longitude', '6.14'), ('temperature', '8.40')]), OrderedDict([('city', 'Genoa'), ('country', 'Italy'), ('latitude', '44.41'), ('longitude', '8.93'), ('temperature', '12.94')]), OrderedDict([('city', 'Glasgow'), ('country', 'United Kingdom'), ('latitude', '55.87'), ('longitude', '-4.25'), ('temperature', '8.60')]), OrderedDict([('city', 'Göteborg'), ('country', 'Sweden'), ('latitude', '57.75'), ('longitude', '12.00'), ('temperature', '5.76')]), OrderedDict([('city', 'Granada'), ('country', 'Spain'), ('latitude', '37.16'), ('longitude', '-3.59'), ('temperature', '16.33')]), OrderedDict([('city', 'Graz'), ('country', 'Austria'), ('latitude', '47.08'), ('longitude', '15.41'), ('temperature', '6.91')]), OrderedDict([('city', 'Grenoble'), ('country', 'France'), ('latitude', '45.18'), ('longitude', '5.72'), ('temperature', '8.40')]), OrderedDict([('city', 'Groningen'), ('country', 'Netherlands'), ('latitude', '53.22'), ('longitude', '6.58'), ('temperature', '8.71')]), OrderedDict([('city', 'Gyor'), ('country', 'Hungary'), ('latitude', '47.70'), ('longitude', '17.63'), ('temperature', '9.65')]), OrderedDict([('city', 'Heidelberg'), ('country', 'Germany'), ('latitude', '49.42'), ('longitude', '8.70'), ('temperature', '8.47')]), OrderedDict([('city', 'Helsinki'), ('country', 'Finland'), ('latitude', '60.18'), ('longitude', '24.93'), ('temperature', '4.19')]), OrderedDict([('city', 'Horlivka'), ('country', 'Ukraine'), ('latitude', '48.30'), ('longitude', '38.05'), ('temperature', '7.12')]), OrderedDict([('city', 'Hrodna'), ('country', 'Belarus'), ('latitude', '53.68'), ('longitude', '23.83'), ('temperature', '6.07')]), OrderedDict([('city', 'Huelva'), ('country', 'Spain'), ('latitude', '37.25'), ('longitude', '-6.93'), ('temperature', '17.09')]), OrderedDict([('city', 'Ingolstadt'), ('country', 'Germany'), ('latitude', '48.77'), ('longitude', '11.45'), ('temperature', '7.57')]), OrderedDict([('city', 'Innsbruck'), ('country', 'Austria'), ('latitude', '47.28'), ('longitude', '11.41'), ('temperature', '4.54')]), OrderedDict([('city', 'Inverness'), ('country', 'United Kingdom'), ('latitude', '57.47'), ('longitude', '-4.23'), ('temperature', '8.00')]), OrderedDict([('city', 'Istanbul'), ('country', 'Turkey'), ('latitude', '41.10'), ('longitude', '29.01'), ('temperature', '13.20')]), OrderedDict([('city', 'Kalamata'), ('country', 'Greece'), ('latitude', '37.04'), ('longitude', '22.11'), ('temperature', '17.30')]), OrderedDict([('city', 'Karaman'), ('country', 'Turkey'), ('latitude', '37.18'), ('longitude', '33.22'), ('temperature', '10.41')]), OrderedDict([('city', 'Karlsruhe'), ('country', 'Germany'), ('latitude', '49.00'), ('longitude', '8.40'), ('temperature', '8.88')]), OrderedDict([('city', 'Kaunas'), ('country', 'Lithuania'), ('latitude', '54.95'), ('longitude', '23.88'), ('temperature', '6.05')]), OrderedDict([('city', 'Kayseri'), ('country', 'Turkey'), ('latitude', '38.73'), ('longitude', '35.49'), ('temperature', '8.89')]), OrderedDict([('city', 'Kherson'), ('country', 'Ukraine'), ('latitude', '46.63'), ('longitude', '32.60'), ('temperature', '8.64')]), OrderedDict([('city', 'Kielce'), ('country', 'Poland'), ('latitude', '50.89'), ('longitude', '20.66'), ('temperature', '7.29')]), OrderedDict([('city', 'Kiev'), ('country', 'Ukraine'), ('latitude', '50.43'), ('longitude', '30.52'), ('temperature', '6.88')]), OrderedDict([('city', 'Kiruna'), ('country', 'Sweden'), ('latitude', '67.85'), ('longitude', '20.22'), ('temperature', '-2.20')]), OrderedDict([('city', 'Klaipeda'), ('country', 'Lithuania'), ('latitude', '55.72'), ('longitude', '21.12'), ('temperature', '7.00')]), OrderedDict([('city', 'Kosice'), ('country', 'Slovakia'), ('latitude', '48.73'), ('longitude', '21.25'), ('temperature', '7.31')]), OrderedDict([('city', 'Koszalin'), ('country', 'Poland'), ('latitude', '54.20'), ('longitude', '16.18'), ('temperature', '7.73')]), OrderedDict([('city', 'Kremenchuk'), ('country', 'Ukraine'), ('latitude', '49.08'), ('longitude', '33.43'), ('temperature', '7.43')]), OrderedDict([('city', 'Kryvyy Rih'), ('country', 'Ukraine'), ('latitude', '47.93'), ('longitude', '33.34'), ('temperature', '8.61')]), OrderedDict([('city', 'Le Mans'), ('country', 'France'), ('latitude', '48.00'), ('longitude', '0.10'), ('temperature', '10.59')]), OrderedDict([('city', 'Lille'), ('country', 'France'), ('latitude', '50.65'), ('longitude', '3.08'), ('temperature', '9.65')]), OrderedDict([('city', 'Limoges'), ('country', 'France'), ('latitude', '45.83'), ('longitude', '1.25'), ('temperature', '10.32')]), OrderedDict([('city', 'Linz'), ('country', 'Austria'), ('latitude', '48.32'), ('longitude', '14.29'), ('temperature', '6.79')]), OrderedDict([('city', 'Lisbon'), ('country', 'Portugal'), ('latitude', '38.72'), ('longitude', '-9.14'), ('temperature', '15.52')]), OrderedDict([('city', 'Ljubljana'), ('country', 'Slovenia'), ('latitude', '46.06'), ('longitude', '14.51'), ('temperature', '9.27')]), OrderedDict([('city', 'Lvov'), ('country', 'Ukraine'), ('latitude', '49.83'), ('longitude', '24.03'), ('temperature', '7.04')]), OrderedDict([('city', 'Maastricht'), ('country', 'Netherlands'), ('latitude', '50.85'), ('longitude', '5.68'), ('temperature', '8.63')]), OrderedDict([('city', 'Madrid'), ('country', 'Spain'), ('latitude', '40.40'), ('longitude', '-3.68'), ('temperature', '11.19')]), OrderedDict([('city', 'Magdeburg'), ('country', 'Germany'), ('latitude', '52.13'), ('longitude', '11.62'), ('temperature', '8.26')]), OrderedDict([('city', 'Makiyivka'), ('country', 'Ukraine'), ('latitude', '48.03'), ('longitude', '37.97'), ('temperature', '8.70')]), OrderedDict([('city', 'Malatya'), ('country', 'Turkey'), ('latitude', '38.37'), ('longitude', '38.30'), ('temperature', '14.13')]), OrderedDict([('city', 'Malmö'), ('country', 'Sweden'), ('latitude', '55.58'), ('longitude', '13.03'), ('temperature', '7.33')]), OrderedDict([('city', 'Manisa'), ('country', 'Turkey'), ('latitude', '38.63'), ('longitude', '27.44'), ('temperature', '15.10')]), OrderedDict([('city', 'Marbella'), ('country', 'Spain'), ('latitude', '36.52'), ('longitude', '-4.88'), ('temperature', '17.19')]), OrderedDict([('city', 'Marseille'), ('country', 'France'), ('latitude', '43.29'), ('longitude', '5.38'), ('temperature', '14.98')]), OrderedDict([('city', 'Mazyr'), ('country', 'Belarus'), ('latitude', '52.05'), ('longitude', '29.27'), ('temperature', '6.25')]), OrderedDict([('city', 'Messina'), ('country', 'Italy'), ('latitude', '38.20'), ('longitude', '15.55'), ('temperature', '16.54')]), OrderedDict([('city', 'Metz'), ('country', 'France'), ('latitude', '49.12'), ('longitude', '6.18'), ('temperature', '8.88')]), OrderedDict([('city', 'Milan'), ('country', 'Italy'), ('latitude', '45.47'), ('longitude', '9.21'), ('temperature', '6.65')]), OrderedDict([('city', 'Minsk'), ('country', 'Belarus'), ('latitude', '53.90'), ('longitude', '27.57'), ('temperature', '5.28')]), OrderedDict([('city', 'Montpellier'), ('country', 'France'), ('latitude', '43.61'), ('longitude', '3.87'), ('temperature', '11.11')]), OrderedDict([('city', 'Mulhouse'), ('country', 'France'), ('latitude', '47.75'), ('longitude', '7.35'), ('temperature', '6.68')]), OrderedDict([('city', 'Murcia'), ('country', 'Spain'), ('latitude', '37.98'), ('longitude', '-1.13'), ('temperature', '15.00')]), OrderedDict([('city', 'Nice'), ('country', 'France'), ('latitude', '43.72'), ('longitude', '7.27'), ('temperature', '8.82')]), OrderedDict([('city', 'Nis'), ('country', 'Serbia'), ('latitude', '43.33'), ('longitude', '21.90'), ('temperature', '9.36')]), OrderedDict([('city', 'Novi Sad'), ('country', 'Serbia'), ('latitude', '45.25'), ('longitude', '19.85'), ('temperature', '10.34')]), OrderedDict([('city', 'Odense'), ('country', 'Denmark'), ('latitude', '55.40'), ('longitude', '10.38'), ('temperature', '7.73')]), OrderedDict([('city', 'Ordu'), ('country', 'Turkey'), ('latitude', '41.00'), ('longitude', '37.87'), ('temperature', '11.92')]), OrderedDict([('city', 'Orsha'), ('country', 'Belarus'), ('latitude', '54.52'), ('longitude', '30.42'), ('temperature', '4.93')]), OrderedDict([('city', 'Oslo'), ('country', 'Norway'), ('latitude', '59.92'), ('longitude', '10.75'), ('temperature', '2.32')]), OrderedDict([('city', 'Ostrava'), ('country', 'Czech Republic'), ('latitude', '49.83'), ('longitude', '18.25'), ('temperature', '7.66')]), OrderedDict([('city', 'Oulu'), ('country', 'Finland'), ('latitude', '65.00'), ('longitude', '25.47'), ('temperature', '1.45')]), OrderedDict([('city', 'Oviedo'), ('country', 'Spain'), ('latitude', '43.35'), ('longitude', '-5.83'), ('temperature', '10.85')]), OrderedDict([('city', 'Palermo'), ('country', 'Italy'), ('latitude', '38.13'), ('longitude', '13.35'), ('temperature', '17.90')]), OrderedDict([('city', 'Patras'), ('country', 'Greece'), ('latitude', '38.23'), ('longitude', '21.73'), ('temperature', '16.90')]), OrderedDict([('city', 'Perpignan'), ('country', 'France'), ('latitude', '42.70'), ('longitude', '2.90'), ('temperature', '10.95')]), OrderedDict([('city', 'Perugia'), ('country', 'Italy'), ('latitude', '43.11'), ('longitude', '12.39'), ('temperature', '11.70')]), OrderedDict([('city', 'Pescara'), ('country', 'Italy'), ('latitude', '42.46'), ('longitude', '14.22'), ('temperature', '15.13')]), OrderedDict([('city', 'Pinsk'), ('country', 'Belarus'), ('latitude', '52.13'), ('longitude', '26.09'), ('temperature', '6.42')]), OrderedDict([('city', 'Pleven'), ('country', 'Bulgaria'), ('latitude', '43.42'), ('longitude', '24.61'), ('temperature', '10.51')]), OrderedDict([('city', 'Plovdiv'), ('country', 'Bulgaria'), ('latitude', '42.15'), ('longitude', '24.75'), ('temperature', '8.27')]), OrderedDict([('city', 'Podgorica'), ('country', 'Montenegro'), ('latitude', '42.47'), ('longitude', '19.27'), ('temperature', '9.99')]), OrderedDict([('city', 'Poznan'), ('country', 'Poland'), ('latitude', '52.41'), ('longitude', '16.90'), ('temperature', '8.31')]), OrderedDict([('city', 'Prague'), ('country', 'Czech Republic'), ('latitude', '50.08'), ('longitude', '14.47'), ('temperature', '8.05')]), OrderedDict([('city', 'Reims'), ('country', 'France'), ('latitude', '49.25'), ('longitude', '4.03'), ('temperature', '9.40')]), OrderedDict([('city', 'Riga'), ('country', 'Latvia'), ('latitude', '56.95'), ('longitude', '24.10'), ('temperature', '5.16')]), OrderedDict([('city', 'Rijeka'), ('country', 'Croatia'), ('latitude', '45.33'), ('longitude', '14.45'), ('temperature', '9.27')]), OrderedDict([('city', 'Rivne'), ('country', 'Ukraine'), ('latitude', '50.62'), ('longitude', '26.25'), ('temperature', '6.76')]), OrderedDict([('city', 'Rome'), ('country', 'Italy'), ('latitude', '41.90'), ('longitude', '12.48'), ('temperature', '15.10')]), OrderedDict([('city', 'Rostock'), ('country', 'Germany'), ('latitude', '54.07'), ('longitude', '12.15'), ('temperature', '8.07')]), OrderedDict([('city', 'Ruse'), ('country', 'Bulgaria'), ('latitude', '43.85'), ('longitude', '25.97'), ('temperature', '10.59')]), OrderedDict([('city', 'Salamanca'), ('country', 'Spain'), ('latitude', '40.97'), ('longitude', '-5.67'), ('temperature', '11.63')]), OrderedDict([('city', 'Salzburg'), ('country', 'Austria'), ('latitude', '47.81'), ('longitude', '13.04'), ('temperature', '4.62')]), OrderedDict([('city', 'Samsun'), ('country', 'Turkey'), ('latitude', '41.28'), ('longitude', '36.34'), ('temperature', '12.05')]), OrderedDict([('city', 'Santander'), ('country', 'Spain'), ('latitude', '43.38'), ('longitude', '-3.80'), ('temperature', '13.40')]), OrderedDict([('city', 'Sarajevo'), ('country', 'Bosnia and Herzegovina'), ('latitude', '43.85'), ('longitude', '13.38'), ('temperature', '9.60')]), OrderedDict([('city', 'Sibiu'), ('country', 'Romania'), ('latitude', '45.80'), ('longitude', '24.14'), ('temperature', '6.97')]), OrderedDict([('city', 'Siirt'), ('country', 'Turkey'), ('latitude', '37.94'), ('longitude', '41.93'), ('temperature', '12.48')]), OrderedDict([('city', 'Sivas'), ('country', 'Turkey'), ('latitude', '39.75'), ('longitude', '37.03'), ('temperature', '8.05')]), OrderedDict([('city', 'Skopje'), ('country', 'Macedonia'), ('latitude', '42.00'), ('longitude', '21.43'), ('temperature', '9.36')]), OrderedDict([('city', 'Split'), ('country', 'Croatia'), ('latitude', '43.52'), ('longitude', '16.47'), ('temperature', '12.46')]), OrderedDict([('city', 'Stara Zagora'), ('country', 'Bulgaria'), ('latitude', '42.42'), ('longitude', '25.62'), ('temperature', '10.90')]), OrderedDict([('city', 'Stavanger'), ('country', 'Norway'), ('latitude', '58.97'), ('longitude', '5.68'), ('temperature', '5.53')]), OrderedDict([('city', 'Stockholm'), ('country', 'Sweden'), ('latitude', '59.35'), ('longitude', '18.10'), ('temperature', '6.26')]), OrderedDict([('city', 'Sumy'), ('country', 'Ukraine'), ('latitude', '50.92'), ('longitude', '34.78'), ('temperature', '6.28')]), OrderedDict([('city', 'Swansea'), ('country', 'United Kingdom'), ('latitude', '51.63'), ('longitude', '-3.95'), ('temperature', '9.73')]), OrderedDict([('city', 'Szeged'), ('country', 'Hungary'), ('latitude', '46.25'), ('longitude', '20.15'), ('temperature', '10.34')]), OrderedDict([('city', 'Tallinn'), ('country', 'Estonia'), ('latitude', '59.43'), ('longitude', '24.73'), ('temperature', '4.82')]), OrderedDict([('city', 'Tampere'), ('country', 'Finland'), ('latitude', '61.50'), ('longitude', '23.75'), ('temperature', '3.59')]), OrderedDict([('city', 'Tarsus'), ('country', 'Turkey'), ('latitude', '36.92'), ('longitude', '34.88'), ('temperature', '11.21')]), OrderedDict([('city', 'Tartu'), ('country', 'Estonia'), ('latitude', '58.38'), ('longitude', '26.71'), ('temperature', '4.36')]), OrderedDict([('city', 'Tekirdag'), ('country', 'Turkey'), ('latitude', '40.99'), ('longitude', '27.51'), ('temperature', '13.02')]), OrderedDict([('city', 'Toulouse'), ('country', 'France'), ('latitude', '43.62'), ('longitude', '1.45'), ('temperature', '10.25')]), OrderedDict([('city', 'Trabzon'), ('country', 'Turkey'), ('latitude', '40.98'), ('longitude', '39.72'), ('temperature', '10.28')]), OrderedDict([('city', 'Trieste'), ('country', 'Italy'), ('latitude', '45.65'), ('longitude', '13.80'), ('temperature', '11.21')]), OrderedDict([('city', 'Trikala'), ('country', 'Greece'), ('latitude', '39.56'), ('longitude', '21.77'), ('temperature', '16.00')]), OrderedDict([('city', 'Trondheim'), ('country', 'Norway'), ('latitude', '63.42'), ('longitude', '10.42'), ('temperature', '4.53')]), OrderedDict([('city', 'Turku'), ('country', 'Finland'), ('latitude', '60.45'), ('longitude', '22.25'), ('temperature', '4.72')]), OrderedDict([('city', 'Uppsala'), ('country', 'Sweden'), ('latitude', '59.86'), ('longitude', '17.64'), ('temperature', '4.17')]), OrderedDict([('city', 'Valencia'), ('country', 'Spain'), ('latitude', '39.49'), ('longitude', '-0.40'), ('temperature', '16.02')]), OrderedDict([('city', 'Vienna'), ('country', 'Austria'), ('latitude', '48.20'), ('longitude', '16.37'), ('temperature', '7.86')]), OrderedDict([('city', 'Vigo'), ('country', 'Spain'), ('latitude', '42.22'), ('longitude', '-8.73'), ('temperature', '12.85')]), OrderedDict([('city', 'Vilnius'), ('country', 'Lithuania'), ('latitude', '54.68'), ('longitude', '25.32'), ('temperature', '5.38')]), OrderedDict([('city', 'Warsaw'), ('country', 'Poland'), ('latitude', '52.25'), ('longitude', '21.00'), ('temperature', '7.20')]), OrderedDict([('city', 'Wroclaw'), ('country', 'Poland'), ('latitude', '51.11'), ('longitude', '17.03'), ('temperature', '7.17')]), OrderedDict([('city', 'Yevpatoriya'), ('country', 'Ukraine'), ('latitude', '45.20'), ('longitude', '33.36'), ('temperature', '10.02')]), OrderedDict([('city', 'Zaragoza'), ('country', 'Spain'), ('latitude', '41.65'), ('longitude', '-0.89'), ('temperature', '14.17')]), OrderedDict([('city', 'Zhytomyr'), ('country', 'Ukraine'), ('latitude', '50.25'), ('longitude', '28.66'), ('temperature', '6.67')]), OrderedDict([('city', 'Zonguldak'), ('country', 'Turkey'), ('latitude', '41.43'), ('longitude', '31.78'), ('temperature', '10.64')]), OrderedDict([('city', 'Zurich'), ('country', 'Switzerland'), ('latitude', '47.38'), ('longitude', '8.56'), ('temperature', '6.68')])]\n"
          ]
        }
      ],
      "source": [
        "# Leer datos de Cities.csv en una lista de diccionarios\n",
        "cities = []\n",
        "with open('Cities.csv') as f:\n",
        "    rows = csv.DictReader(f)\n",
        "    for r in rows:\n",
        "        cities.append(r)\n",
        "print(cities)"
      ]
    },
    {
      "cell_type": "code",
      "execution_count": null,
      "metadata": {
        "id": "X6unZ0WHoTB6",
        "colab": {
          "base_uri": "https://localhost:8080/"
        },
        "outputId": "8b6824fd-f882-4376-f15f-a61bcbf23398"
      },
      "outputs": [
        {
          "output_type": "stream",
          "name": "stdout",
          "text": [
            "[OrderedDict([('country', 'Albania'), ('population', '2.9'), ('EU', 'no'), ('coastline', 'yes')]), OrderedDict([('country', 'Andorra'), ('population', '0.07'), ('EU', 'no'), ('coastline', 'no')]), OrderedDict([('country', 'Austria'), ('population', '8.57'), ('EU', 'yes'), ('coastline', 'no')]), OrderedDict([('country', 'Belarus'), ('population', '9.48'), ('EU', 'no'), ('coastline', 'no')]), OrderedDict([('country', 'Belgium'), ('population', '11.37'), ('EU', 'yes'), ('coastline', 'yes')]), OrderedDict([('country', 'Bosnia and Herzegovina'), ('population', '3.8'), ('EU', 'no'), ('coastline', 'yes')]), OrderedDict([('country', 'Bulgaria'), ('population', '7.1'), ('EU', 'yes'), ('coastline', 'yes')]), OrderedDict([('country', 'Croatia'), ('population', '4.23'), ('EU', 'yes'), ('coastline', 'yes')]), OrderedDict([('country', 'Cyprus'), ('population', '1.18'), ('EU', 'yes'), ('coastline', 'yes')]), OrderedDict([('country', 'Czech Republic'), ('population', '10.55'), ('EU', 'yes'), ('coastline', 'no')]), OrderedDict([('country', 'Denmark'), ('population', '5.69'), ('EU', 'yes'), ('coastline', 'yes')]), OrderedDict([('country', 'Estonia'), ('population', '1.31'), ('EU', 'yes'), ('coastline', 'yes')]), OrderedDict([('country', 'Finland'), ('population', '5.52'), ('EU', 'yes'), ('coastline', 'yes')]), OrderedDict([('country', 'France'), ('population', '64.67'), ('EU', 'yes'), ('coastline', 'yes')]), OrderedDict([('country', 'Germany'), ('population', '80.68'), ('EU', 'yes'), ('coastline', 'yes')]), OrderedDict([('country', 'Greece'), ('population', '10.92'), ('EU', 'yes'), ('coastline', 'yes')]), OrderedDict([('country', 'Hungary'), ('population', '9.82'), ('EU', 'yes'), ('coastline', 'no')]), OrderedDict([('country', 'Iceland'), ('population', '0.33'), ('EU', 'no'), ('coastline', 'yes')]), OrderedDict([('country', 'Ireland'), ('population', '4.71'), ('EU', 'yes'), ('coastline', 'yes')]), OrderedDict([('country', 'Italy'), ('population', '59.8'), ('EU', 'yes'), ('coastline', 'yes')]), OrderedDict([('country', 'Kosovo'), ('population', '1.91'), ('EU', 'no'), ('coastline', 'no')]), OrderedDict([('country', 'Latvia'), ('population', '1.96'), ('EU', 'yes'), ('coastline', 'yes')]), OrderedDict([('country', 'Liechtenstein'), ('population', '0.04'), ('EU', 'no'), ('coastline', 'no')]), OrderedDict([('country', 'Lithuania'), ('population', '2.85'), ('EU', 'yes'), ('coastline', 'yes')]), OrderedDict([('country', 'Luxembourg'), ('population', '0.58'), ('EU', 'yes'), ('coastline', 'no')]), OrderedDict([('country', 'Macedonia'), ('population', '2.08'), ('EU', 'no'), ('coastline', 'no')]), OrderedDict([('country', 'Moldova'), ('population', '4.06'), ('EU', 'no'), ('coastline', 'no')]), OrderedDict([('country', 'Montenegro'), ('population', '0.63'), ('EU', 'no'), ('coastline', 'yes')]), OrderedDict([('country', 'Netherlands'), ('population', '16.98'), ('EU', 'yes'), ('coastline', 'yes')]), OrderedDict([('country', 'Norway'), ('population', '5.27'), ('EU', 'no'), ('coastline', 'yes')]), OrderedDict([('country', 'Poland'), ('population', '38.59'), ('EU', 'yes'), ('coastline', 'yes')]), OrderedDict([('country', 'Portugal'), ('population', '10.3'), ('EU', 'yes'), ('coastline', 'yes')]), OrderedDict([('country', 'Romania'), ('population', '19.37'), ('EU', 'yes'), ('coastline', 'yes')]), OrderedDict([('country', 'Serbia'), ('population', '8.81'), ('EU', 'no'), ('coastline', 'no')]), OrderedDict([('country', 'Slovakia'), ('population', '5.43'), ('EU', 'yes'), ('coastline', 'no')]), OrderedDict([('country', 'Slovenia'), ('population', '2.07'), ('EU', 'yes'), ('coastline', 'yes')]), OrderedDict([('country', 'Spain'), ('population', '46.06'), ('EU', 'yes'), ('coastline', 'yes')]), OrderedDict([('country', 'Sweden'), ('population', '9.85'), ('EU', 'yes'), ('coastline', 'yes')]), OrderedDict([('country', 'Switzerland'), ('population', '8.38'), ('EU', 'no'), ('coastline', 'no')]), OrderedDict([('country', 'Turkey'), ('population', '79.62'), ('EU', 'no'), ('coastline', 'yes')]), OrderedDict([('country', 'Ukraine'), ('population', '44.62'), ('EU', 'no'), ('coastline', 'yes')]), OrderedDict([('country', 'United Kingdom'), ('population', '65.11'), ('EU', 'yes'), ('coastline', 'yes')])]\n"
          ]
        }
      ],
      "source": [
        "# Leer datos de Countries.csv en la lista de diccionarios\n",
        "countries = []\n",
        "with open('Countries.csv') as f:\n",
        "    rows = csv.DictReader(f)\n",
        "    for r in rows:\n",
        "        countries.append(r)\n",
        "print(countries)"
      ]
    },
    {
      "cell_type": "code",
      "execution_count": null,
      "metadata": {
        "id": "G9djxF3KoTB6",
        "colab": {
          "base_uri": "https://localhost:8080/"
        },
        "outputId": "87a2cf7a-d835-45a2-b7c4-498cd569d9b2"
      },
      "outputs": [
        {
          "output_type": "stream",
          "name": "stdout",
          "text": [
            "Aberdeen -2.08\n",
            "Albacete -1.87\n",
            "Algeciras -5.47\n",
            "Angers -0.53\n",
            "Badajoz -6.97\n",
            "Belfast -5.96\n",
            "Bilbao -2.93\n",
            "Birmingham -1.92\n",
            "Blackpool -3.05\n",
            "Bordeaux -0.60\n",
            "Bournemouth -1.90\n",
            "Bradford -1.75\n",
            "Braga -8.42\n",
            "Brest -4.50\n",
            "Burgos -3.68\n",
            "Caen -0.35\n",
            "Cartagena -0.98\n",
            "Cork -8.50\n",
            "Dublin -6.25\n",
            "Dundee -3.00\n",
            "Edinburgh -3.22\n",
            "Exeter -3.53\n",
            "Galway -9.05\n",
            "Glasgow -4.25\n",
            "Granada -3.59\n",
            "Huelva -6.93\n",
            "Inverness -4.23\n",
            "Lisbon -9.14\n",
            "Madrid -3.68\n",
            "Marbella -4.88\n",
            "Murcia -1.13\n",
            "Oviedo -5.83\n",
            "Salamanca -5.67\n",
            "Santander -3.80\n",
            "Swansea -3.95\n",
            "Valencia -0.40\n",
            "Vigo -8.73\n",
            "Zaragoza -0.89\n"
          ]
        }
      ],
      "source": [
        "# Imprime la ciudad y la longitud de todas las ciudades con longitud < 0\n",
        "for city in cities:\n",
        "    if float(city['longitude']) < 0:\n",
        "        print(city['city'], city['longitude'])"
      ]
    },
    {
      "cell_type": "code",
      "execution_count": null,
      "metadata": {
        "id": "y7493sZ4oTB7",
        "colab": {
          "base_uri": "https://localhost:8080/"
        },
        "outputId": "97621de3-57d0-4613-ee57-984ed475d024"
      },
      "outputs": [
        {
          "output_type": "stream",
          "name": "stdout",
          "text": [
            "Adana - Turkey\n",
            "Andorra - Andorra\n",
            "Ankara - Turkey\n",
            "Antalya - Turkey\n",
            "Balti - Moldova\n",
            "Basel - Switzerland\n",
            "Batman - Turkey\n",
            "Belgrade - Serbia\n",
            "Bergen - Norway\n",
            "Bila Tserkva - Ukraine\n",
            "Bodo - Norway\n",
            "Brest - Belarus\n",
            "Bursa - Turkey\n",
            "Cherkasy - Ukraine\n",
            "Chernihiv - Ukraine\n",
            "Chernivtsi - Ukraine\n",
            "Chisinau - Moldova\n",
            "Denizli - Turkey\n",
            "Edirne - Turkey\n",
            "Elbasan - Albania\n",
            "Erzincan - Turkey\n",
            "Erzurum - Turkey\n",
            "Eskisehir - Turkey\n",
            "Gaziantep - Turkey\n",
            "Geneva - Switzerland\n",
            "Horlivka - Ukraine\n",
            "Hrodna - Belarus\n",
            "Istanbul - Turkey\n",
            "Karaman - Turkey\n",
            "Kayseri - Turkey\n",
            "Kherson - Ukraine\n",
            "Kiev - Ukraine\n",
            "Kremenchuk - Ukraine\n",
            "Kryvyy Rih - Ukraine\n",
            "Lvov - Ukraine\n",
            "Makiyivka - Ukraine\n",
            "Malatya - Turkey\n",
            "Manisa - Turkey\n",
            "Mazyr - Belarus\n",
            "Minsk - Belarus\n",
            "Nis - Serbia\n",
            "Novi Sad - Serbia\n",
            "Ordu - Turkey\n",
            "Orsha - Belarus\n",
            "Oslo - Norway\n",
            "Pinsk - Belarus\n",
            "Podgorica - Montenegro\n",
            "Rivne - Ukraine\n",
            "Samsun - Turkey\n",
            "Sarajevo - Bosnia and Herzegovina\n",
            "Siirt - Turkey\n",
            "Sivas - Turkey\n",
            "Skopje - Macedonia\n",
            "Stavanger - Norway\n",
            "Sumy - Ukraine\n",
            "Tarsus - Turkey\n",
            "Tekirdag - Turkey\n",
            "Trabzon - Turkey\n",
            "Trondheim - Norway\n",
            "Yevpatoriya - Ukraine\n",
            "Zhytomyr - Ukraine\n",
            "Zonguldak - Turkey\n",
            "Zurich - Switzerland\n"
          ]
        }
      ],
      "source": [
        "# Imprimir todas las ciudades que no están en la UE\n",
        "# Requiere unir ciudades y países\n",
        "for city in cities:\n",
        "    for country in countries:\n",
        "        if city['country'] == country['country'] and country['EU'] == 'no':\n",
        "            print(city['city'], '-', city['country'])"
      ]
    },
    {
      "cell_type": "markdown",
      "metadata": {
        "id": "UkvJU3NXoTB7"
      },
      "source": [
        "### Agregación"
      ]
    },
    {
      "cell_type": "code",
      "execution_count": null,
      "metadata": {
        "id": "7GbhactaoTB7"
      },
      "outputs": [],
      "source": [
        "import numpy as np"
      ]
    },
    {
      "cell_type": "code",
      "execution_count": null,
      "metadata": {
        "id": "RPmtwvDcoTB7",
        "colab": {
          "base_uri": "https://localhost:8080/"
        },
        "outputId": "98a79064-3c45-40db-e3dd-b5ec85afff56"
      },
      "outputs": [
        {
          "output_type": "stream",
          "name": "stdout",
          "text": [
            "9.497840375586854\n"
          ]
        }
      ],
      "source": [
        "# Calcule la temperatura promedio de las ciudades\n",
        "temps = [] # crear una lista de todas las temperaturas\n",
        "for city in cities:\n",
        "    temps.append(float(city['temperature']))\n",
        "# print(temps)\n",
        "print(np.average(temps))"
      ]
    },
    {
      "cell_type": "code",
      "execution_count": null,
      "metadata": {
        "id": "Tuz92iE4oTB8",
        "colab": {
          "base_uri": "https://localhost:8080/"
        },
        "outputId": "346cb000-a8c6-4c56-8023-bb5309e1ca92"
      },
      "outputs": [
        {
          "output_type": "stream",
          "name": "stdout",
          "text": [
            "9.497840375586858\n"
          ]
        }
      ],
      "source": [
        "# Alternativa utiliznado la suma y un contador\n",
        "sum = 0\n",
        "count = 0\n",
        "for city in cities:\n",
        "    sum += float(city['temperature'])\n",
        "    count += 1\n",
        "print(sum/count)"
      ]
    },
    {
      "cell_type": "code",
      "execution_count": null,
      "metadata": {
        "id": "5DmVhjoIoTB8",
        "colab": {
          "base_uri": "https://localhost:8080/"
        },
        "outputId": "ba94faa0-e714-47e0-e9a1-e7da7455ee07"
      },
      "outputs": [
        {
          "output_type": "stream",
          "name": "stdout",
          "text": [
            "Denmark 7.62  - tiene 2 ciudades\n",
            "United Kingdom 8.65  - tiene 13 ciudades\n",
            "Sweden 3.59  - tiene 6 ciudades\n",
            "Turkey 11.73  - tiene 24 ciudades\n",
            "Spain 14.24  - tiene 18 ciudades\n",
            "France 10.15  - tiene 18 ciudades\n",
            "Netherlands 8.76  - tiene 3 ciudades\n",
            "Italy 13.47  - tiene 15 ciudades\n",
            "Andorra 9.6  - tiene 1 ciudades\n",
            "Romania 9.22  - tiene 9 ciudades\n",
            "Greece 16.9  - tiene 4 ciudades\n",
            "Germany 7.87  - tiene 14 ciudades\n",
            "Moldova 8.41  - tiene 2 ciudades\n",
            "Switzerland 7.25  - tiene 3 ciudades\n",
            "Serbia 9.85  - tiene 3 ciudades\n",
            "Norway 3.73  - tiene 5 ciudades\n",
            "Poland 7.25  - tiene 9 ciudades\n",
            "Ukraine 7.42  - tiene 15 ciudades\n",
            "Portugal 14.47  - tiene 2 ciudades\n",
            "Slovakia 8.48  - tiene 2 ciudades\n",
            "Belarus 5.95  - tiene 6 ciudades\n",
            "Czech Republic 7.86  - tiene 3 ciudades\n",
            "Belgium 9.65  - tiene 1 ciudades\n",
            "Hungary 9.6  - tiene 4 ciudades\n",
            "Bulgaria 10.44  - tiene 5 ciudades\n",
            "Ireland 9.3  - tiene 3 ciudades\n",
            "Latvia 5.27  - tiene 2 ciudades\n",
            "Albania 15.18  - tiene 1 ciudades\n",
            "Austria 6.14  - tiene 5 ciudades\n",
            "Finland 3.49  - tiene 4 ciudades\n",
            "Lithuania 6.14  - tiene 3 ciudades\n",
            "Slovenia 9.27  - tiene 1 ciudades\n",
            "Montenegro 9.99  - tiene 1 ciudades\n",
            "Croatia 10.86  - tiene 2 ciudades\n",
            "Bosnia and Herzegovina 9.6  - tiene 1 ciudades\n",
            "Macedonia 9.36  - tiene 1 ciudades\n",
            "Estonia 4.59  - tiene 2 ciudades\n"
          ]
        }
      ],
      "source": [
        "# Calcule la temperatura promedio de la ciudad para cada país(REVISAR)\n",
        "# Primero, procesar la lista de países\n",
        "countryList = []\n",
        "for city in cities:\n",
        "    if city['country'] not in countryList:\n",
        "        countryList.append(city['country'])\n",
        "# print(countryList)\n",
        "# Luego calcule la temperatura promedio para cada una\n",
        "for country in countryList:\n",
        "    temps = []\n",
        "    for city in cities:\n",
        "        if city['country'] == country:\n",
        "            temps.append(float(city['temperature']))\n",
        "    print(country, round(np.average(temps),2), \" - tiene\", len(temps), \"ciudades\")"
      ]
    },
    {
      "cell_type": "code",
      "execution_count": null,
      "metadata": {
        "id": "i_WRHukVoTB8",
        "colab": {
          "base_uri": "https://localhost:8080/"
        },
        "outputId": "03e310c9-317d-44cc-9454-659037af031a"
      },
      "outputs": [
        {
          "output_type": "stream",
          "name": "stdout",
          "text": [
            "Minimum: -2.2\n",
            "Maximum: 18.67\n"
          ]
        }
      ],
      "source": [
        "# Calcule las temperaturas mínimas y máximas de la ciudad\n",
        "temps = []\n",
        "for city in cities:\n",
        "    temps.append(float(city['temperature']))\n",
        "print('Minimum:', min(temps))\n",
        "print('Maximum:', max(temps))"
      ]
    },
    {
      "cell_type": "code",
      "execution_count": null,
      "metadata": {
        "id": "gdIlo3mcoTB8",
        "colab": {
          "base_uri": "https://localhost:8080/"
        },
        "outputId": "c425fbc3-343c-460c-e9bf-01e414ab36b2"
      },
      "outputs": [
        {
          "output_type": "stream",
          "name": "stdout",
          "text": [
            "Minimum: -2.2\n",
            "Maximum: 18.67\n"
          ]
        }
      ],
      "source": [
        "# Método alternativo usando \"running\" min y max\n",
        "minval = 100 # mayor que cualquier mínimo posible\n",
        "maxval = 0   # menos que cualquier máximo posible\n",
        "for city in cities:\n",
        "    if float(city['temperature']) < minval:\n",
        "        minval = float(city['temperature'])\n",
        "    if float(city['temperature']) > maxval:\n",
        "        maxval = float(city['temperature'])\n",
        "print('Minimum:', minval)\n",
        "print('Maximum:', maxval)"
      ]
    },
    {
      "cell_type": "markdown",
      "metadata": {
        "id": "U3fJz9tIoTB9"
      },
      "source": [
        "### <font color=\"green\">**Tu turno**</font>"
      ]
    },
    {
      "cell_type": "code",
      "execution_count": null,
      "metadata": {
        "scrolled": true,
        "id": "GrfXOuSVoTB9"
      },
      "outputs": [],
      "source": [
        "# Encuentre las temperaturas mínimas, máximas y medias de las ciudades\n",
        "# que están en la UE, y las temperaturas mínimas, máximas y medias\n",
        "# de las ciudades que no están en la UE.\n",
        "# Sugerencia: crea dos listas de temperaturas.\n",
        "\n",
        "EU = [] # temperatures of EU cities\n",
        "nonEU = [] # temperatures of non-EU cities\n",
        "\n",
        "TU CÓDIGO PARA LLENAR LISTAS VA AQUÍ\n",
        "\n",
        "print('EU:    ', 'mínima', min(EU), 'máxima', max(EU), 'promedio', np.average(EU))\n",
        "print('non-EU:', 'mínima', min(nonEU), 'máxima', max(nonEU), 'promedio', np.average(nonEU))"
      ]
    },
    {
      "cell_type": "markdown",
      "metadata": {
        "id": "49BtRLrdoTB9"
      },
      "source": [
        "### <font color=\"green\">**Tu turno: World Cup Data**</font>"
      ]
    },
    {
      "cell_type": "code",
      "source": [
        "# Cargar los archivos de datos de la copa mundial: Players.csv y Teams.csv\n",
        "# Dichos archivos deberán de estar de manera local en collab o tu computadora\n",
        "uploaded = files.upload()"
      ],
      "metadata": {
        "id": "MFEQKDtYs4Vt",
        "colab": {
          "base_uri": "https://localhost:8080/",
          "height": 107,
          "resources": {
            "http://localhost:8080/nbextensions/google.colab/files.js": {
              "data": "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",
              "ok": true,
              "headers": [
                [
                  "content-type",
                  "application/javascript"
                ]
              ],
              "status": 200,
              "status_text": ""
            }
          }
        },
        "outputId": "4ff40f60-2d2e-49f5-d4ee-8732e575a966"
      },
      "execution_count": null,
      "outputs": [
        {
          "output_type": "display_data",
          "data": {
            "text/plain": [
              "<IPython.core.display.HTML object>"
            ],
            "text/html": [
              "\n",
              "     <input type=\"file\" id=\"files-1804d5fd-fe59-42f3-8faf-b6a016fa84d0\" name=\"files[]\" multiple disabled\n",
              "        style=\"border:none\" />\n",
              "     <output id=\"result-1804d5fd-fe59-42f3-8faf-b6a016fa84d0\">\n",
              "      Upload widget is only available when the cell has been executed in the\n",
              "      current browser session. Please rerun this cell to enable.\n",
              "      </output>\n",
              "      <script src=\"/nbextensions/google.colab/files.js\"></script> "
            ]
          },
          "metadata": {}
        },
        {
          "output_type": "stream",
          "name": "stdout",
          "text": [
            "Saving Players.csv to Players.csv\n",
            "Saving Teams.csv to Teams.csv\n"
          ]
        }
      ]
    },
    {
      "cell_type": "code",
      "execution_count": null,
      "metadata": {
        "id": "ZmS34bkyoTB9"
      },
      "outputs": [],
      "source": [
        "# Leer Players.csv y Teams.csv en listas de diccionarios\n",
        "players = []\n",
        "with open('Players.csv') as f:\n",
        "    rows = csv.DictReader(f)\n",
        "    for r in rows:\n",
        "        players.append(r)\n",
        "teams = []\n",
        "with open('Teams.csv') as f:\n",
        "    rows = csv.DictReader(f)\n",
        "    for r in rows:\n",
        "        teams.append(r)"
      ]
    },
    {
      "cell_type": "code",
      "execution_count": null,
      "metadata": {
        "id": "xVdKNHg0oTB-",
        "colab": {
          "base_uri": "https://localhost:8080/"
        },
        "outputId": "254f77d2-7600-4175-fe17-e51866928612"
      },
      "outputs": [
        {
          "output_type": "stream",
          "name": "stdout",
          "text": [
            "Kuzmanovic\n"
          ]
        }
      ],
      "source": [
        "# ¿Qué jugador de un equipo con “ia” en el nombre del equipo jugó menos de\n",
        "# 200 minutos y realizó más de 100 pases? Imprime el apellido del jugador.\n",
        "# Nota: en Python, use \"'abc' en s\" para verificar si la cadena s contiene 'abc'\n",
        "# Recordatorio: convierta los minutos y los pases en números enteros\n",
        "# antes de compararlos con los valores.\n",
        "\n",
        "for player in players:\n",
        "    if \"ia\" in player['team'] and int(player['minutes']) < 200 and int(player['passes']) > 100:\n",
        "            print(player['surname'])\n"
      ]
    },
    {
      "cell_type": "code",
      "execution_count": null,
      "metadata": {
        "id": "A53f6RzZoTB-"
      },
      "outputs": [],
      "source": [
        "# ¿Cuál es el promedio de pases que hacen los delanteros? ¿y por mediocampistas?\n",
        "# Asegúrese de etiquetar cuál es cuál.\n",
        "\n",
        "for player in players:\n",
        "  if \"midfielder\" in player[\"position\"]\n",
        "                  print(((player['passes'])))\n",
        "\n",
        "  forward\n",
        ""
      ]
    },
    {
      "cell_type": "code",
      "execution_count": null,
      "metadata": {
        "id": "J8JWfPs6oTB-"
      },
      "outputs": [],
      "source": [
        "# ¿Qué equipo tiene el \"ratio\" más alto de goles a favor con goles en contra?\n",
        "# Imprimir solo el equipo.\n",
        "# Recordatorio: use float() para asegurarse de que está haciendo\n",
        "# una división de punto flotante\n",
        "# Sugerencia: use dos variables para realizar el seguimiento de la relación más\n",
        "# alta observada hasta ahora y el equipo con esa relación:\n",
        "\n",
        "ratio = 0 # \"ratio\" más alto observado hasta ahora\n",
        "ratioteam = '' # equipo con el \"ratio\" más alto\n",
        "\n",
        "TU CÓDIGO AQUÍ"
      ]
    },
    {
      "cell_type": "code",
      "execution_count": null,
      "metadata": {
        "id": "2pYE61VhoTB-"
      },
      "outputs": [],
      "source": [
        "# ¿Cuántos jugadores que juegan en un equipo con ranking <10 jugaron\n",
        "# más de 350 minutos?\n",
        "# Recordatorio: convierta el ranking y los minutos en números enteros antes\n",
        "# de compararlos con los valores\n",
        "# Sugerencia: calcule la combinación de jugadores y equipos, usando una\n",
        "# variable para contar el número de jugadores que cumplen con el requisito\n",
        "\n",
        "TU CÓDIGO AQUÍ"
      ]
    }
  ],
  "metadata": {
    "kernelspec": {
      "display_name": "Python 3",
      "language": "python",
      "name": "python3"
    },
    "language_info": {
      "codemirror_mode": {
        "name": "ipython",
        "version": 3
      },
      "file_extension": ".py",
      "mimetype": "text/x-python",
      "name": "python",
      "nbconvert_exporter": "python",
      "pygments_lexer": "ipython3",
      "version": "3.7.6"
    },
    "colab": {
      "provenance": [],
      "collapsed_sections": [
        "pGai0_A5oTB1",
        "m0Cnk3-OoTB5",
        "og8SSmsRoTB6",
        "UkvJU3NXoTB7",
        "U3fJz9tIoTB9"
      ],
      "include_colab_link": true
    }
  },
  "nbformat": 4,
  "nbformat_minor": 0
}