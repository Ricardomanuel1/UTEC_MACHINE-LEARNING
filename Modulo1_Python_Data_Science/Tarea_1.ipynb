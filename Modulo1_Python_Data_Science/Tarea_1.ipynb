{
  "nbformat": 4,
  "nbformat_minor": 0,
  "metadata": {
    "colab": {
      "provenance": [],
      "include_colab_link": true
    },
    "kernelspec": {
      "name": "python3",
      "display_name": "Python 3"
    },
    "language_info": {
      "name": "python"
    }
  },
  "cells": [
    {
      "cell_type": "markdown",
      "metadata": {
        "id": "view-in-github",
        "colab_type": "text"
      },
      "source": [
        "<a href=\"https://colab.research.google.com/github/Ricardomanuel1/UTEC_MACHINE-LEARNING/blob/main/Modulo1_Python_Data_Science/Tarea_1.ipynb\" target=\"_parent\"><img src=\"https://colab.research.google.com/assets/colab-badge.svg\" alt=\"Open In Colab\"/></a>"
      ]
    },
    {
      "cell_type": "code",
      "execution_count": null,
      "metadata": {
        "colab": {
          "base_uri": "https://localhost:8080/"
        },
        "id": "Xirv1lMmqE-d",
        "outputId": "5ddcae5a-2b49-494d-c2b3-c36c9dd7ab39"
      },
      "outputs": [
        {
          "output_type": "stream",
          "name": "stdout",
          "text": [
            "ingrese el numero de estudiantes: 2\n",
            "Ingrese el nombre: r\n",
            "ingrese la nota: 12\n",
            "Ingrese el nombre: z\n",
            "ingrese la nota: 16\n",
            "r\n",
            "z\n",
            "14.0\n"
          ]
        }
      ],
      "source": [
        "n=int(input(\"ingrese el numero de estudiantes: \"))\n",
        "\n",
        "nombres= []\n",
        "notas = []\n",
        "\n",
        "for i in range(n):\n",
        "  nombre=input(\"Ingrese el nombre: \")\n",
        "  nombres.append(nombre)\n",
        "\n",
        "  nota=float(input(\"ingrese la nota: \"))\n",
        "  notas.append(nota)\n",
        "\n",
        "indexmax=notas.index(max(notas))\n",
        "\n",
        "indexmin=notas.index(min(notas))\n",
        "\n",
        "promedio=round((sum(notas)/n),2)\n",
        "\n",
        "print(nombres[indexmin])\n",
        "print(nombres[indexmax])\n",
        "print(promedio)\n",
        "\n",
        "\n",
        "\n",
        "\n"
      ]
    },
    {
      "cell_type": "code",
      "source": [
        "c=[2,4,6,8,10,12,14,16,18,20,22,24]\n",
        "d=[3,6,9,12,15,18,21,24,27]\n",
        "\n",
        "lista=[]\n",
        "for i in range(2,25):\n",
        "  if i%2 ==0:\n",
        "    lista.append(i)\n",
        "print(lista)\n",
        "\n",
        "lista1 = [x for x in range (2,25,2)]\n",
        "print(lista1)\n",
        "\n",
        "lista2=[x for x in range(3,28,3)]\n",
        "print(lista2)\n",
        "\n",
        "A_B_1=[x for x in range(6,25,6)]\n",
        "print(A_B_1)\n",
        "\n",
        "A_B_2=[x for x in range(6,25) if x%6==0]\n",
        "print(A_B_2)\n",
        "\n"
      ],
      "metadata": {
        "colab": {
          "base_uri": "https://localhost:8080/"
        },
        "id": "1xytjf4FtU61",
        "outputId": "1de451e4-6336-436a-e0c5-752589f9f3a1"
      },
      "execution_count": null,
      "outputs": [
        {
          "output_type": "stream",
          "name": "stdout",
          "text": [
            "[2, 4, 6, 8, 10, 12, 14, 16, 18, 20, 22, 24]\n",
            "[2, 4, 6, 8, 10, 12, 14, 16, 18, 20, 22, 24]\n",
            "[3, 6, 9, 12, 15, 18, 21, 24, 27]\n",
            "[6, 12, 18, 24]\n",
            "[6, 12, 18, 24]\n",
            "[3, 6, 9, 12, 15, 18, 21, 24, 27, 3, 6, 9, 12, 15, 18, 21, 24, 27, 3, 6, 9, 12, 15, 18, 21, 24, 27, 3, 6, 9, 12, 15, 18, 21, 24, 27, 3, 6, 9, 12, 15, 18, 21, 24, 27, 3, 6, 9, 12, 15, 18, 21, 24, 27, 3, 6, 9, 12, 15, 18, 21, 24, 27, 3, 6, 9, 12, 15, 18, 21, 24, 27, 3, 6, 9, 12, 15, 18, 21, 24, 27, 3, 6, 9, 12, 15, 18, 21, 24, 27, 3, 6, 9, 12, 15, 18, 21, 24, 27, 3, 6, 9, 12, 15, 18, 21, 24, 27]\n"
          ]
        }
      ]
    },
    {
      "cell_type": "code",
      "source": [
        "notas=[[18,17,20,16],[5,10,20,19]]\n",
        "print(len(notas))\n",
        "print(notas[0][2])\n",
        "print(notas[1][3])\n",
        "print(notas[0:1])\n",
        "print(notas[0:2])# es igual a escribir print(notas[0:])\n",
        "print(notas[1:])# es igual a escribir print(notas[1:2])\n",
        "\n"
      ],
      "metadata": {
        "colab": {
          "base_uri": "https://localhost:8080/"
        },
        "id": "a7e8sEwbWUGz",
        "outputId": "a16f8d98-8a7a-4c71-81c9-70062330c2a2"
      },
      "execution_count": null,
      "outputs": [
        {
          "output_type": "stream",
          "name": "stdout",
          "text": [
            "2\n",
            "20\n",
            "19\n",
            "[[18, 17, 20, 16]]\n",
            "[[18, 17, 20, 16], [5, 10, 20, 19]]\n",
            "[[5, 10, 20, 19]]\n"
          ]
        }
      ]
    },
    {
      "cell_type": "code",
      "source": [
        "#mariz tridimensional\n",
        "\n",
        "notas_3d=[[1,2,3],[4,5,6],[7,8,9],[10,11,12]]\n",
        "print(notas_3d[0][1][2])\n",
        "\n"
      ],
      "metadata": {
        "colab": {
          "base_uri": "https://localhost:8080/",
          "height": 217
        },
        "id": "4ZJZQ_1Rb0xI",
        "outputId": "ed8d0661-40ad-471e-b7ad-e8099ebf5d45"
      },
      "execution_count": null,
      "outputs": [
        {
          "output_type": "error",
          "ename": "TypeError",
          "evalue": "ignored",
          "traceback": [
            "\u001b[0;31m---------------------------------------------------------------------------\u001b[0m",
            "\u001b[0;31mTypeError\u001b[0m                                 Traceback (most recent call last)",
            "\u001b[0;32m<ipython-input-25-89e09faeac16>\u001b[0m in \u001b[0;36m<module>\u001b[0;34m()\u001b[0m\n\u001b[1;32m      2\u001b[0m \u001b[0;34m\u001b[0m\u001b[0m\n\u001b[1;32m      3\u001b[0m \u001b[0mnotas_3d\u001b[0m\u001b[0;34m=\u001b[0m\u001b[0;34m[\u001b[0m\u001b[0;34m[\u001b[0m\u001b[0;36m1\u001b[0m\u001b[0;34m,\u001b[0m\u001b[0;36m2\u001b[0m\u001b[0;34m,\u001b[0m\u001b[0;36m3\u001b[0m\u001b[0;34m]\u001b[0m\u001b[0;34m,\u001b[0m\u001b[0;34m[\u001b[0m\u001b[0;36m4\u001b[0m\u001b[0;34m,\u001b[0m\u001b[0;36m5\u001b[0m\u001b[0;34m,\u001b[0m\u001b[0;36m6\u001b[0m\u001b[0;34m]\u001b[0m\u001b[0;34m,\u001b[0m\u001b[0;34m[\u001b[0m\u001b[0;36m7\u001b[0m\u001b[0;34m,\u001b[0m\u001b[0;36m8\u001b[0m\u001b[0;34m,\u001b[0m\u001b[0;36m9\u001b[0m\u001b[0;34m]\u001b[0m\u001b[0;34m,\u001b[0m\u001b[0;34m[\u001b[0m\u001b[0;36m10\u001b[0m\u001b[0;34m,\u001b[0m\u001b[0;36m11\u001b[0m\u001b[0;34m,\u001b[0m\u001b[0;36m12\u001b[0m\u001b[0;34m]\u001b[0m\u001b[0;34m]\u001b[0m\u001b[0;34m\u001b[0m\u001b[0;34m\u001b[0m\u001b[0m\n\u001b[0;32m----> 4\u001b[0;31m \u001b[0mprint\u001b[0m\u001b[0;34m(\u001b[0m\u001b[0mnotas_3d\u001b[0m\u001b[0;34m[\u001b[0m\u001b[0;36m0\u001b[0m\u001b[0;34m]\u001b[0m\u001b[0;34m[\u001b[0m\u001b[0;36m1\u001b[0m\u001b[0;34m]\u001b[0m\u001b[0;34m[\u001b[0m\u001b[0;36m2\u001b[0m\u001b[0;34m]\u001b[0m\u001b[0;34m)\u001b[0m\u001b[0;34m\u001b[0m\u001b[0;34m\u001b[0m\u001b[0m\n\u001b[0m\u001b[1;32m      5\u001b[0m \u001b[0;34m\u001b[0m\u001b[0m\n",
            "\u001b[0;31mTypeError\u001b[0m: 'int' object is not subscriptable"
          ]
        }
      ]
    }
  ]
}