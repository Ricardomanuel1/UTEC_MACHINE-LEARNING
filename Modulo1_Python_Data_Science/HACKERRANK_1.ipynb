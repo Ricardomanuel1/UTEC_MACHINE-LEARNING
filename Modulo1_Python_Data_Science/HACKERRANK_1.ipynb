{
  "nbformat": 4,
  "nbformat_minor": 0,
  "metadata": {
    "colab": {
      "provenance": [],
      "include_colab_link": true
    },
    "kernelspec": {
      "name": "python3",
      "display_name": "Python 3"
    },
    "language_info": {
      "name": "python"
    }
  },
  "cells": [
    {
      "cell_type": "markdown",
      "metadata": {
        "id": "view-in-github",
        "colab_type": "text"
      },
      "source": [
        "<a href=\"https://colab.research.google.com/github/Ricardomanuel1/UTEC_MACHINE-LEARNING/blob/main/Modulo1_Python_Data_Science/HACKERRANK_1.ipynb\" target=\"_parent\"><img src=\"https://colab.research.google.com/assets/colab-badge.svg\" alt=\"Open In Colab\"/></a>"
      ]
    },
    {
      "cell_type": "code",
      "execution_count": null,
      "metadata": {
        "colab": {
          "base_uri": "https://localhost:8080/"
        },
        "id": "RlrXu84cDLR5",
        "outputId": "c8865793-80bb-478a-b2d6-acf4a97ab38c"
      },
      "outputs": [
        {
          "output_type": "stream",
          "name": "stdout",
          "text": [
            "21.9\n",
            "<class 'float'>\n"
          ]
        }
      ],
      "source": [
        "#Varible numérica\n",
        "edad=18\n",
        "edad=19.9\n",
        "edad=edad+2\n",
        "print(edad)\n",
        "print(type(edad))#es una variable del numerica tipo entero (int)\n"
      ]
    },
    {
      "cell_type": "code",
      "source": [
        "#Operaciones numericas\n",
        "#Modulo(residuo)=% devuelve el residuo de una división\n",
        "x=10%3\n",
        "print(x)\n",
        "#exponenciación=**\n",
        "y=2**3\n",
        "print(y)\n",
        "#División piso =//(devuelve el entero del cociente)\n",
        "z=10//4\n",
        "print(z)\n",
        "\n"
      ],
      "metadata": {
        "colab": {
          "base_uri": "https://localhost:8080/"
        },
        "id": "jA-T76oJGN3A",
        "outputId": "0c172975-5f1b-4df9-fd7c-f3236aafda88"
      },
      "execution_count": null,
      "outputs": [
        {
          "output_type": "stream",
          "name": "stdout",
          "text": [
            "1\n",
            "8\n",
            "2\n"
          ]
        }
      ]
    },
    {
      "cell_type": "code",
      "source": [
        "#Variable tipo texto o cadena o string\n",
        "nombre=\"Richard\"\n",
        "apellido=\"Quispe\"\n",
        "print(nombre)\n",
        "print(type(nombre))"
      ],
      "metadata": {
        "colab": {
          "base_uri": "https://localhost:8080/"
        },
        "id": "tq117DQUDp-y",
        "outputId": "d231f54c-078d-4d4d-938c-9fe58c218d2f"
      },
      "execution_count": null,
      "outputs": [
        {
          "output_type": "stream",
          "name": "stdout",
          "text": [
            "Richard\n",
            "<class 'str'>\n"
          ]
        }
      ]
    },
    {
      "cell_type": "code",
      "source": [
        "#la funcion input nos permite ingresar un numero por consola la float esta convirtiendo a flotante dicho número\n",
        "#Calculo del area de una habitación\n",
        "ancho=float(input(\"Ingrese el ancho: \"))\n",
        "largo=float(input(\"Ingrese el largo: \"))\n",
        "area=ancho*largo\n",
        "print(area)"
      ],
      "metadata": {
        "colab": {
          "base_uri": "https://localhost:8080/"
        },
        "id": "JHBP7wQHHxiP",
        "outputId": "c0a90e58-d1f7-41f2-a713-8099ab40b724"
      },
      "execution_count": null,
      "outputs": [
        {
          "output_type": "stream",
          "name": "stdout",
          "text": [
            "Ingrese el ancho: 5\n",
            "Ingrese el largo: 6\n",
            "30.0\n"
          ]
        }
      ]
    },
    {
      "cell_type": "code",
      "source": [
        "x=int(input())#Con input nos permite ingresar un número por consola y con int lo convertimos a entero\n",
        "resultado=3*x+6\n",
        "resultado"
      ],
      "metadata": {
        "colab": {
          "base_uri": "https://localhost:8080/"
        },
        "id": "2JVQ1m0hx0Dk",
        "outputId": "681a23a2-a626-4d6e-c4e3-31237c6160e3"
      },
      "execution_count": null,
      "outputs": [
        {
          "name": "stdout",
          "output_type": "stream",
          "text": [
            "3\n"
          ]
        },
        {
          "output_type": "execute_result",
          "data": {
            "text/plain": [
              "15"
            ]
          },
          "metadata": {},
          "execution_count": 17
        }
      ]
    },
    {
      "cell_type": "code",
      "source": [
        "import math#Calculo de pitagoras\n",
        "a=int(input(\"Ingrese la cateto1: \"))\n",
        "b=int(input(\"Ingrese el cateto2: \"))\n",
        "c=math.sqrt(a**2+b**2)\n",
        "print(\"La hipotenusa es:\", c)\n"
      ],
      "metadata": {
        "colab": {
          "base_uri": "https://localhost:8080/"
        },
        "id": "e151CDZlyhMo",
        "outputId": "9c2fa4c9-701d-40f8-aa69-03fe432aeabd"
      },
      "execution_count": null,
      "outputs": [
        {
          "output_type": "stream",
          "name": "stdout",
          "text": [
            "Ingrese la cateto1: 3\n",
            "Ingrese el cateto2: 4\n",
            "La hipotenusa es: 5.0\n"
          ]
        }
      ]
    },
    {
      "cell_type": "code",
      "source": [
        "#Calculo del volumen\n",
        "a=int(input(\"Ingrese la ancho: \"))\n",
        "b=int(input(\"Ingrese el altura: \"))\n",
        "c=int(input(\"Ingrese el largo: \"))\n",
        "print(\"El volumen es:\", a*b*c)"
      ],
      "metadata": {
        "colab": {
          "base_uri": "https://localhost:8080/"
        },
        "id": "vBFiqHoW0Fsp",
        "outputId": "40f488d0-6336-416c-ee55-116e272d807d"
      },
      "execution_count": null,
      "outputs": [
        {
          "output_type": "stream",
          "name": "stdout",
          "text": [
            "Ingrese la ancho: 1\n",
            "Ingrese el altura: 2\n",
            "Ingrese el largo: 3\n",
            "El volumen es: 6\n"
          ]
        }
      ]
    },
    {
      "cell_type": "code",
      "source": [
        "pi=math.pi\n",
        "r=float(input(\"Ingrese el radio: \"))\n",
        "v=(4*pi*(r**3))/3\n",
        "print(\"El volumen es :\",round(v,3))"
      ],
      "metadata": {
        "colab": {
          "base_uri": "https://localhost:8080/"
        },
        "id": "RuEgktU61StX",
        "outputId": "d7a5a52d-c939-45a5-c176-4ec724177875"
      },
      "execution_count": null,
      "outputs": [
        {
          "output_type": "stream",
          "name": "stdout",
          "text": [
            "Ingrese el radio: 2.563\n",
            "El volumen es : 70.524\n"
          ]
        }
      ]
    },
    {
      "cell_type": "code",
      "source": [
        "#Ejemplos de funciones predefinidas en Python\n",
        "print(\"Hola mundo\")\n",
        "input(\"Ingrese datos\")\n",
        "#randint(1,10)#seleciona un numero aleatorio entre 1 y 10\n",
        "#sort(lista)#ordena una lista"
      ],
      "metadata": {
        "colab": {
          "base_uri": "https://localhost:8080/",
          "height": 73
        },
        "id": "owepQlQN4oil",
        "outputId": "69bc3a1f-09b5-4cbe-bc12-7bf9c6fcfcb8"
      },
      "execution_count": null,
      "outputs": [
        {
          "name": "stdout",
          "output_type": "stream",
          "text": [
            "Hola mundo\n",
            "Ingrese datos2\n"
          ]
        },
        {
          "output_type": "execute_result",
          "data": {
            "text/plain": [
              "'2'"
            ],
            "application/vnd.google.colaboratory.intrinsic+json": {
              "type": "string"
            }
          },
          "metadata": {},
          "execution_count": 44
        }
      ]
    },
    {
      "cell_type": "code",
      "source": [
        "#Funciones, en pyton se define  una funcion con la palabra def\n",
        "\n",
        "#Definimos una funcion suma\n",
        "def suma(numero1,numero2):#numero 1 y 2 son los parametros de entrada de la funcion\n",
        "  resultado=numero1 +numero2# cuando tiene una sangría se llama indentacion y todo lo que esta luego de la sangría es parte de la funcion\n",
        "  return resultado\n",
        "\n",
        "def dobleretorno():#puede ser cualquier nombre\n",
        "  lista=[1,2,3]\n",
        "  return suma(lista),len(lista)\n",
        "\n",
        "#rand\n",
        "#f=randint(1,10)\n",
        "#print(f)\n",
        "\n",
        "#sort perminte ordenar una lista en un orden especifico"
      ],
      "metadata": {
        "id": "ovqX217gvr4t"
      },
      "execution_count": null,
      "outputs": []
    },
    {
      "cell_type": "code",
      "source": [
        "#esta funcion no devuelve nada(None) debido que no tiene return\n",
        "def soloimprimo(tamano):\n",
        "    for i in range(tamano):\n",
        "      for j in range(tamano):\n",
        "        print(\"*\",end=\"\")\n",
        "    print()\n"
      ],
      "metadata": {
        "id": "-I_42_MZ7A15"
      },
      "execution_count": null,
      "outputs": []
    },
    {
      "cell_type": "code",
      "source": [
        "#Esta funcion si devuelve(return) más de un valor, retorno (15,5,5,1) es una tupla\n",
        "def dobleretorno():\n",
        "  lista=[1,2,3,4,5]\n",
        "  return sum(lista),len(lista),max(lista), min(lista)\n",
        "variable1, variable2, variable3,variable4  = dobleretorno()\n",
        "print(dobleretorno())"
      ],
      "metadata": {
        "colab": {
          "base_uri": "https://localhost:8080/"
        },
        "id": "yHSj1DFC9zom",
        "outputId": "3c3e0a6e-71f2-4545-e1bb-07a93327d27b"
      },
      "execution_count": null,
      "outputs": [
        {
          "output_type": "stream",
          "name": "stdout",
          "text": [
            "(15, 5, 5, 1)\n"
          ]
        }
      ]
    },
    {
      "cell_type": "code",
      "source": [
        "#Alcance de una función, la varible local no es posible usarla fuera de la funcion pero si una externa puede ser usada dentro del funcion\n",
        "def funcion():\n",
        "  variablelocal=1\n",
        "  return variablelocal+variableexterna\n",
        "variableexterna=2\n",
        "print(funcion())"
      ],
      "metadata": {
        "colab": {
          "base_uri": "https://localhost:8080/"
        },
        "id": "St6Yce4_BIv3",
        "outputId": "a4faee5d-9fef-4ba5-f22c-c501fc66868d"
      },
      "execution_count": null,
      "outputs": [
        {
          "output_type": "stream",
          "name": "stdout",
          "text": [
            "3\n"
          ]
        }
      ]
    },
    {
      "cell_type": "code",
      "source": [
        "#Practica N°1 HACKERANK\n",
        "\n",
        "#1. Ejercicio N°1 Dada función f(x)=3x+4. Construye un programa que nos permita ingresar la \"x\" y nos devuelva el resultado de la función.\n",
        "x=int(input())#input para ingresar un texto por consola y int para convertirlo en entero\n",
        "resultado=3*x+4\n",
        "print(resultado)\n",
        "\n"
      ],
      "metadata": {
        "colab": {
          "base_uri": "https://localhost:8080/"
        },
        "id": "Z7BaEgzGIDqA",
        "outputId": "63d4d597-42e0-4a60-a77b-623f383cab12"
      },
      "execution_count": null,
      "outputs": [
        {
          "output_type": "stream",
          "name": "stdout",
          "text": [
            "3\n",
            "13\n"
          ]
        }
      ]
    },
    {
      "cell_type": "code",
      "source": [
        "#2.Ejercicio N°2, Escribe un programa que permita a un usuario ingresar dos números de cada cateto de un triángulo. El programa deberá de imprimir en consola la longitud de la hipotenusa.\n",
        "a=int(input())\n",
        "b=int(input())\n",
        "c=(a**2+b**2)**(1/2)\n",
        "print(c)\n"
      ],
      "metadata": {
        "colab": {
          "base_uri": "https://localhost:8080/"
        },
        "id": "w8n0jm3AKVxF",
        "outputId": "40a6f972-9949-4acb-811a-4ac9a65ae830"
      },
      "execution_count": null,
      "outputs": [
        {
          "output_type": "stream",
          "name": "stdout",
          "text": [
            "3\n",
            "4\n",
            "5.0\n"
          ]
        }
      ]
    },
    {
      "cell_type": "code",
      "source": [
        "#3.Ejercicio N°3, Escribir un programa en Python que permita hallar el volumen de una esfera.Tenga en cuenta que el volumen de la es: V = 4πr³/3\n",
        "import math\n",
        "pi=math.pi\n",
        "r=float(input())\n",
        "v=round((4*pi*(r**3))/3,2)\n",
        "print(v)\n",
        "\n",
        "\n"
      ],
      "metadata": {
        "colab": {
          "base_uri": "https://localhost:8080/"
        },
        "id": "4r460GzTMUAy",
        "outputId": "2049e358-df8e-4290-d8bf-401083b50adb"
      },
      "execution_count": null,
      "outputs": [
        {
          "output_type": "stream",
          "name": "stdout",
          "text": [
            "6\n",
            "904.78\n"
          ]
        }
      ]
    },
    {
      "cell_type": "code",
      "source": [
        "#4.Ejercicio N°4, Implemente una función que reciba un número entero como párametro y retorne el factorial de dicho número\n",
        "def factorial(n):\n",
        "  resultado=1#iniciara en 1\n",
        "  for i in range (1,n+1):#va iterar de 1 a n+1, para poder incluir el n de debe poner n+1\n",
        "      resultado=resultado*i\n",
        "  return(resultado)\n",
        "x=int(input())\n",
        "print(factorial(x))\n",
        "\n",
        "\n"
      ],
      "metadata": {
        "colab": {
          "base_uri": "https://localhost:8080/"
        },
        "id": "Ky0_WkLpNZvy",
        "outputId": "dcb83b26-1934-4d42-c70a-7b6cd4651d19"
      },
      "execution_count": null,
      "outputs": [
        {
          "output_type": "stream",
          "name": "stdout",
          "text": [
            "5\n",
            "120\n"
          ]
        }
      ]
    },
    {
      "cell_type": "code",
      "source": [
        "#5.Ejercicio N°5, Implemente una función que reciba un número entero como parámetro y retorne la sumatoria de dicho número.\n",
        "def suma(n):\n",
        "  resultado=0#iniciara en 1\n",
        "  for i in range (1,n+1):#va iterar de 1 a n+1, para poder incluir el n de debe poner n+1\n",
        "      resultado=resultado+i\n",
        "  return(resultado)\n",
        "x=int(input())\n",
        "print(suma(x))"
      ],
      "metadata": {
        "colab": {
          "base_uri": "https://localhost:8080/"
        },
        "id": "kXZZZ9hq9cF4",
        "outputId": "54052f98-7841-4a1b-9c19-70535f6f1576"
      },
      "execution_count": null,
      "outputs": [
        {
          "output_type": "stream",
          "name": "stdout",
          "text": [
            "2\n",
            "3\n"
          ]
        }
      ]
    },
    {
      "cell_type": "code",
      "source": [
        "#6.Ejercicio N°6 Implemente una función que reciba un número como parámetro y haga las sumatorias de la siguiente forma\n",
        "#Si el número es par la función debe calcular y retornar la suma de todos los números pares desde el 0 hasta el número pasado como parámetro.\n",
        "#Si el número es impar entonces la función debe calcular y retornar la suma de todos los números impares desde el 0 hasta el número pasado como parámetro.\n",
        "#Si el número es 0 o no se le pasa ningun párametro, debe retornar el valor de 0.\n",
        "def sumatoria(n):\n",
        "  result=0\n",
        "  if(n%2==0):#la funcion modulo nos entrega el residuo de una division y si es cero el numero es par\n",
        "    for i in range(0,n+1,2):\n",
        "      result+=i#la expresión += es equivalente =result+\n",
        "      return(result)\n",
        "  else:\n",
        "    for i in range(1,n+1,2):\n",
        "      result+=i\n",
        "      return(result)\n",
        "x=int(input())\n",
        "print(sumatoria(x))\n",
        "\n"
      ],
      "metadata": {
        "colab": {
          "base_uri": "https://localhost:8080/"
        },
        "id": "U9r3hiZy_tOe",
        "outputId": "4dd2b8ae-7aca-4751-d01d-462b84a53644"
      },
      "execution_count": null,
      "outputs": [
        {
          "output_type": "stream",
          "name": "stdout",
          "text": [
            "3\n",
            "1\n"
          ]
        }
      ]
    },
    {
      "cell_type": "code",
      "source": [
        "#Ejemplos de string\n",
        "nombre=\"UTEC\"\n",
        "print(nombre[0])\n",
        "print(nombre[1])\n",
        "print(nombre[2])\n",
        "print(nombre[3])\n"
      ],
      "metadata": {
        "colab": {
          "base_uri": "https://localhost:8080/"
        },
        "id": "qcc17OJxJqqP",
        "outputId": "eda54715-3c42-4934-c161-8eb79d20f8ca"
      },
      "execution_count": null,
      "outputs": [
        {
          "output_type": "stream",
          "name": "stdout",
          "text": [
            "U\n",
            "T\n",
            "E\n",
            "C\n"
          ]
        }
      ]
    },
    {
      "cell_type": "code",
      "source": [
        "name=input(\"ingrese un nombre:\")#imprime NOMBRE letra por letra usando WHILE\n",
        "i=0\n",
        "while i <len(name):\n",
        "  print(name[i])\n",
        "  i=i+1"
      ],
      "metadata": {
        "colab": {
          "base_uri": "https://localhost:8080/"
        },
        "id": "2amiuwfpLgP6",
        "outputId": "539524f9-cab2-4f7d-ae5a-90a1dccd788c"
      },
      "execution_count": null,
      "outputs": [
        {
          "output_type": "stream",
          "name": "stdout",
          "text": [
            "ingrese un nombre:richard\n",
            "r\n",
            "i\n",
            "c\n",
            "h\n",
            "a\n",
            "r\n",
            "d\n"
          ]
        }
      ]
    },
    {
      "cell_type": "code",
      "source": [
        "name=input(\"ingrese un nombre:\")#imprime NOMBRE letra por letra usando FOR\n",
        "for letra in name:\n",
        "  print(letra)"
      ],
      "metadata": {
        "colab": {
          "base_uri": "https://localhost:8080/"
        },
        "id": "RNDCx8fDO3Ua",
        "outputId": "be0c6eaa-8bce-46ee-f251-e3e9bbdb1bfa"
      },
      "execution_count": null,
      "outputs": [
        {
          "output_type": "stream",
          "name": "stdout",
          "text": [
            "ingrese un nombre:richard\n",
            "r\n",
            "i\n",
            "c\n",
            "h\n",
            "a\n",
            "r\n",
            "d\n"
          ]
        }
      ]
    },
    {
      "cell_type": "code",
      "source": [
        "#Cuantas veces se repite la letra \"a\" en un texo\n",
        "nombre=input(\"ingrese el nombre:\")\n",
        "i=0\n",
        "c=0\n",
        "while i<len(nombre):\n",
        "  if nombre[i]==\"a\" or nombre[i]==\"A\":\n",
        "    c=c+1\n",
        "  i=i+1\n",
        "print(c)\n",
        "\n"
      ],
      "metadata": {
        "colab": {
          "base_uri": "https://localhost:8080/"
        },
        "id": "TZOZy7XEREKi",
        "outputId": "75377599-f5fa-4a55-f539-f4afc502edfb"
      },
      "execution_count": null,
      "outputs": [
        {
          "output_type": "stream",
          "name": "stdout",
          "text": [
            "ingrese el nombre:aAmmm\n",
            "2\n"
          ]
        }
      ]
    },
    {
      "cell_type": "code",
      "source": [
        "nombre=input(\"ingrese el nombre:\")#otra forma de contar la letra a en una palabra con in\n",
        "i=0\n",
        "c=0\n",
        "while i<len(nombre):\n",
        "  if nombre[i] in \"aA\":\n",
        "    c=c+1\n",
        "  i=i+1\n",
        "print(c)"
      ],
      "metadata": {
        "colab": {
          "base_uri": "https://localhost:8080/"
        },
        "id": "IZLRF6stVFqq",
        "outputId": "79a75c1b-e6ed-4184-847f-1cf7da718a61"
      },
      "execution_count": null,
      "outputs": [
        {
          "output_type": "stream",
          "name": "stdout",
          "text": [
            "ingrese el nombre:Aaddd\n",
            "2\n"
          ]
        }
      ]
    },
    {
      "cell_type": "code",
      "source": [
        "#7. Ejercicio N°7.- Desarrolle un algoritmo que convierta la última letra de cada palabra de un string a mayúscula. El resto de letras deben ser minúsculas.\n",
        "palabra=input(\"ingrese una palabra:\")\n",
        "resultado=\"\"#el resultado debe sin espacio antes de la comilla\n",
        "for i in range(len(palabra)):\n",
        "    if (i==len(palabra)-1 or palabra[i+1] == \" \"):\n",
        "         resultado += palabra[i].upper()\n",
        "    else:\n",
        "         resultado += palabra[i].lower()\n",
        "print(resultado)\n"
      ],
      "metadata": {
        "colab": {
          "base_uri": "https://localhost:8080/"
        },
        "id": "s9GC8rmBEq4G",
        "outputId": "9b241865-57eb-46c2-c251-e17ff8be39d5"
      },
      "execution_count": null,
      "outputs": [
        {
          "output_type": "stream",
          "name": "stdout",
          "text": [
            "ingrese una palabra:casa\n",
            " casA\n"
          ]
        }
      ]
    },
    {
      "cell_type": "code",
      "source": [
        "#8. Ejercicio  N°8.- Desarrolle un programa que dado una oración, nos permita hallar el número de veces que se repite una letra.\n",
        "#El programa no deberá de ser sensible a las mayúsculas y minúsculas\n",
        "\n",
        "frase=input(\"Ingrese la palabra:\")\n",
        "letra=input()\n",
        "contador=0\n",
        "for caracter in frase:\n",
        "    if(caracter.lower() == letra.lower()):\n",
        "       contador += 1\n",
        "print(contador)"
      ],
      "metadata": {
        "colab": {
          "base_uri": "https://localhost:8080/"
        },
        "id": "w4aQLKv_rkwI",
        "outputId": "84e0ebe7-4794-4066-dd9b-22b96d3ce5ca"
      },
      "execution_count": null,
      "outputs": [
        {
          "output_type": "stream",
          "name": "stdout",
          "text": [
            "Ingrese la palabra:yo programo\n",
            "o\n",
            "3\n"
          ]
        }
      ]
    },
    {
      "cell_type": "code",
      "source": [
        "#9. Ejercicio N°9.- Generar un traductor de palabras al latinBot(un lenguaje artificial). Se recibe una palabra en español y se\n",
        "#traduce de la siguiente forma: Se toma la primera letra y se pone al final, además se le agrega la palabra bot.\n",
        "#Tener en cuenta que la primera palabra en el lenguaje latinBot siempre está en mayúscula.\n",
        "\n",
        "palabra=input(\"Ingrese la palabra a traducir:\")\n",
        "i=0\n",
        "resultado= \" \"#tendremos un resultado de respuesta\n",
        "for i in range(len(palabra)-1):#debe recorrer hasta la posicion n-1\n",
        "    resultado += palabra[i+1]#como resultado tendremos\n",
        "\n",
        "resultado += palabra[0]\n",
        "resultado += \"bot\"\n",
        "resultado = resultado.capitalize()\n",
        "\n",
        "print(resultado)\n",
        "\n"
      ],
      "metadata": {
        "colab": {
          "base_uri": "https://localhost:8080/"
        },
        "id": "pjIzuE50yhsS",
        "outputId": "511fed31-cdf2-44b6-8b7d-a9472a0b3180"
      },
      "execution_count": null,
      "outputs": [
        {
          "output_type": "stream",
          "name": "stdout",
          "text": [
            "Ingrese la palabra a traducir:casa\n",
            " asacbot\n"
          ]
        }
      ]
    },
    {
      "cell_type": "code",
      "source": [
        "#9. Ejercicio N°9.- Generar un traductor de palabras al latinBot(un lenguaje artificial). Se recibe una palabra en español y se\n",
        "#traduce de la siguiente forma: Se toma la primera letra y se pone al final, además se le agrega la palabra bot.\n",
        "#Tener en cuenta que la primera palabra en el lenguaje latinBot siempre está en mayúscula. OTRA FORMA\n",
        "\n",
        "palabra=input()\n",
        "resultado=\" \"\n",
        "for i in range(1,len(palabra)):\n",
        "   if (i==1):\n",
        "      resultado += palabra[i].upper()\n",
        "   else:\n",
        "      resultado += palabra[i].lower()\n",
        "\n",
        "resultado += palabra[0].lower()\n",
        "resultado += \"bot\"\n",
        "\n",
        "print(resultado)"
      ],
      "metadata": {
        "colab": {
          "base_uri": "https://localhost:8080/"
        },
        "id": "cCL9oejN0FVd",
        "outputId": "60b7bb56-8a2d-4788-e59b-542292efd6be"
      },
      "execution_count": null,
      "outputs": [
        {
          "output_type": "stream",
          "name": "stdout",
          "text": [
            "casa\n",
            " Asacbot\n"
          ]
        }
      ]
    },
    {
      "cell_type": "code",
      "source": [
        "palabra=input()\n",
        "print(len(palabra))\n",
        "for i in range(1,len(palabra)):\n",
        "  print(i)\n",
        ""
      ],
      "metadata": {
        "colab": {
          "base_uri": "https://localhost:8080/"
        },
        "id": "grnDTvBmAU4C",
        "outputId": "04f95370-ef68-4368-fa18-45d8725e8692"
      },
      "execution_count": null,
      "outputs": [
        {
          "output_type": "stream",
          "name": "stdout",
          "text": [
            "casa\n",
            "4\n",
            "1\n",
            "2\n",
            "3\n"
          ]
        }
      ]
    },
    {
      "cell_type": "code",
      "source": [
        "#calculo de promedio en listas\n",
        "notas=[18,16,20,16]\n",
        "avg=sum(notas)/len(notas)\n",
        "print(avg)\n",
        "print(len(notas))\n",
        "for i in range(len(notas)):\n",
        "  print(i)\n"
      ],
      "metadata": {
        "colab": {
          "base_uri": "https://localhost:8080/"
        },
        "id": "3Aec6Ff7feCv",
        "outputId": "e3e6e5e4-9e9b-4607-f521-d33984a8e350"
      },
      "execution_count": null,
      "outputs": [
        {
          "output_type": "stream",
          "name": "stdout",
          "text": [
            "17.5\n",
            "4\n",
            "0\n",
            "1\n",
            "2\n",
            "3\n"
          ]
        }
      ]
    }
  ]
}